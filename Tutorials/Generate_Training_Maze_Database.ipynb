{
 "cells": [
  {
   "cell_type": "markdown",
   "id": "789d66a6",
   "metadata": {},
   "source": [
    "## This notebook walks us through the process of generating a database of good mazes for training.\n",
    "\n",
    "This notebook was used to generate the database of training mazes (`training_maze_database.pkl`). For training mazes, all 3 paths between reward ports are the same length, path lengths are between 15-23 hexes, and there are no straight paths >8 hexes long."
   ]
  },
  {
   "cell_type": "code",
   "execution_count": 1,
   "id": "452661c2",
   "metadata": {},
   "outputs": [],
   "source": [
    "# General imports we need\n",
    "import matplotlib.pyplot as plt\n",
    "import pandas as pd\n",
    "import pickle\n",
    "from tqdm import tqdm\n",
    "\n",
    "import sys\n",
    "sys.path.append(\"..\")  # Use sys to add the parent directory (where src/hexmaze lives) to the path"
   ]
  },
  {
   "cell_type": "markdown",
   "id": "2f1992f9",
   "metadata": {},
   "source": [
    "### Step 1: Generate a bunch of valid maze configurations\n",
    "We start by using a naive generation approach (randomly generating possible barrier sets until we get a valid maze) to generate 100,000 valid hex maze configurations. We'll store them in a set to remove duplicates."
   ]
  },
  {
   "cell_type": "code",
   "execution_count": null,
   "id": "1d59f905",
   "metadata": {},
   "outputs": [
    {
     "name": "stderr",
     "output_type": "stream",
     "text": [
      " 10%|█         | 104/1000 [00:07<01:03, 14.15it/s]"
     ]
    },
    {
     "name": "stdout",
     "output_type": "stream",
     "text": [
      "After 100 good mazes, 94 are unique.\n"
     ]
    },
    {
     "name": "stderr",
     "output_type": "stream",
     "text": [
      " 20%|██        | 200/1000 [00:15<01:03, 12.51it/s]"
     ]
    },
    {
     "name": "stdout",
     "output_type": "stream",
     "text": [
      "After 200 good mazes, 182 are unique.\n"
     ]
    },
    {
     "name": "stderr",
     "output_type": "stream",
     "text": [
      " 31%|███▏      | 313/1000 [00:24<01:06, 10.38it/s]"
     ]
    },
    {
     "name": "stdout",
     "output_type": "stream",
     "text": [
      "After 300 good mazes, 265 are unique.\n"
     ]
    },
    {
     "name": "stderr",
     "output_type": "stream",
     "text": [
      " 40%|████      | 402/1000 [00:32<01:00,  9.88it/s]"
     ]
    },
    {
     "name": "stdout",
     "output_type": "stream",
     "text": [
      "After 400 good mazes, 344 are unique.\n"
     ]
    },
    {
     "name": "stderr",
     "output_type": "stream",
     "text": [
      " 50%|█████     | 505/1000 [00:41<00:39, 12.48it/s]"
     ]
    },
    {
     "name": "stdout",
     "output_type": "stream",
     "text": [
      "After 500 good mazes, 410 are unique.\n"
     ]
    },
    {
     "name": "stderr",
     "output_type": "stream",
     "text": [
      " 60%|██████    | 604/1000 [00:50<00:36, 10.95it/s]"
     ]
    },
    {
     "name": "stdout",
     "output_type": "stream",
     "text": [
      "After 600 good mazes, 475 are unique.\n"
     ]
    },
    {
     "name": "stderr",
     "output_type": "stream",
     "text": [
      " 70%|███████   | 701/1000 [00:59<00:33,  9.03it/s]"
     ]
    },
    {
     "name": "stdout",
     "output_type": "stream",
     "text": [
      "After 700 good mazes, 531 are unique.\n"
     ]
    },
    {
     "name": "stderr",
     "output_type": "stream",
     "text": [
      " 80%|████████  | 803/1000 [01:07<00:09, 19.87it/s]"
     ]
    },
    {
     "name": "stdout",
     "output_type": "stream",
     "text": [
      "After 800 good mazes, 584 are unique.\n"
     ]
    },
    {
     "name": "stderr",
     "output_type": "stream",
     "text": [
      " 90%|█████████ | 901/1000 [01:17<00:10,  9.27it/s]"
     ]
    },
    {
     "name": "stdout",
     "output_type": "stream",
     "text": [
      "After 900 good mazes, 628 are unique.\n"
     ]
    },
    {
     "name": "stderr",
     "output_type": "stream",
     "text": [
      "100%|██████████| 1000/1000 [01:25<00:00, 11.74it/s]"
     ]
    },
    {
     "name": "stdout",
     "output_type": "stream",
     "text": [
      "After 1000 good mazes, 669 are unique.\n"
     ]
    },
    {
     "name": "stderr",
     "output_type": "stream",
     "text": [
      "\n"
     ]
    }
   ],
   "source": [
    "from src.hexmaze import generate_good_maze\n",
    "\n",
    "run = False # Don't run this by default because it'll take forever and prevent future cells from being run\n",
    "if run:\n",
    "\n",
    "    # Initialize a set to store all of the unique maze configurations we generate\n",
    "    valid_maze_configs = set()\n",
    "\n",
    "    # Initialize a list to track how many unique configurations we have after\n",
    "    # every 100 configurations we randomly generate. Watching this list reach an \n",
    "    # asymptote will give us info on how many unique configurations exist\n",
    "    number_of_valid_configs = []\n",
    "\n",
    "    # Generate 100,000 valid mazes\n",
    "    num_mazes_to_generate = 1000\n",
    "\n",
    "    for i in tqdm(range(1, num_mazes_to_generate+1)):\n",
    "        # Randomly generate a valid maze configuration\n",
    "        maze = frozenset(generate_good_maze(num_barriers=5, training_maze=True))\n",
    "        \n",
    "        # Add the valid maze config to our set (this automatically removes any duplicates)\n",
    "        valid_maze_configs.add(maze)\n",
    "        \n",
    "        # For every 100 configurations we generate, record how many are unique\n",
    "        if i % 100 == 0: \n",
    "            num_valid = len(valid_maze_configs)\n",
    "            number_of_valid_configs.append(num_valid)\n",
    "            print(f\"After {i} good mazes, {num_valid} are unique.\")\n",
    "\n",
    "            # Incrementally save the configs and now many are unique so far\n",
    "            with open('example_data/valid_training_maze_configs.pkl', 'wb') as file:\n",
    "                pickle.dump(valid_maze_configs, file)\n",
    "            with open('example_data/number_of_valid_training_configs.pkl', 'wb') as file:\n",
    "                pickle.dump(number_of_valid_configs, file)"
   ]
  },
  {
   "cell_type": "markdown",
   "id": "461e8662",
   "metadata": {},
   "source": [
    "We may realize that we didn't actually generate enough configurations to get all possible unique mazes. Here's the another version of the above cell but now we're loading our existing set and adding to that instead of starting from scratch."
   ]
  },
  {
   "cell_type": "code",
   "execution_count": null,
   "id": "2cdcf890",
   "metadata": {},
   "outputs": [
    {
     "name": "stderr",
     "output_type": "stream",
     "text": [
      "  1%|          | 101/10000 [00:05<07:39, 21.53it/s]"
     ]
    },
    {
     "name": "stdout",
     "output_type": "stream",
     "text": [
      "After 17100 good mazes, 8304 are unique.\n"
     ]
    },
    {
     "name": "stderr",
     "output_type": "stream",
     "text": [
      "  2%|▏         | 204/10000 [00:11<09:19, 17.51it/s]"
     ]
    },
    {
     "name": "stdout",
     "output_type": "stream",
     "text": [
      "After 17200 good mazes, 8331 are unique.\n"
     ]
    },
    {
     "name": "stderr",
     "output_type": "stream",
     "text": [
      "  3%|▎         | 304/10000 [00:17<10:00, 16.15it/s]"
     ]
    },
    {
     "name": "stdout",
     "output_type": "stream",
     "text": [
      "After 17300 good mazes, 8366 are unique.\n"
     ]
    },
    {
     "name": "stderr",
     "output_type": "stream",
     "text": [
      "  4%|▍         | 402/10000 [00:22<09:22, 17.08it/s]"
     ]
    },
    {
     "name": "stdout",
     "output_type": "stream",
     "text": [
      "After 17400 good mazes, 8406 are unique.\n"
     ]
    },
    {
     "name": "stderr",
     "output_type": "stream",
     "text": [
      "  5%|▌         | 502/10000 [00:27<07:52, 20.12it/s]"
     ]
    },
    {
     "name": "stdout",
     "output_type": "stream",
     "text": [
      "After 17500 good mazes, 8438 are unique.\n"
     ]
    },
    {
     "name": "stderr",
     "output_type": "stream",
     "text": [
      "  6%|▌         | 602/10000 [00:33<08:43, 17.94it/s]"
     ]
    },
    {
     "name": "stdout",
     "output_type": "stream",
     "text": [
      "After 17600 good mazes, 8470 are unique.\n"
     ]
    },
    {
     "name": "stderr",
     "output_type": "stream",
     "text": [
      "  7%|▋         | 704/10000 [00:39<09:17, 16.68it/s]"
     ]
    },
    {
     "name": "stdout",
     "output_type": "stream",
     "text": [
      "After 17700 good mazes, 8495 are unique.\n"
     ]
    },
    {
     "name": "stderr",
     "output_type": "stream",
     "text": [
      "  8%|▊         | 802/10000 [00:45<08:20, 18.38it/s]"
     ]
    },
    {
     "name": "stdout",
     "output_type": "stream",
     "text": [
      "After 17800 good mazes, 8519 are unique.\n"
     ]
    },
    {
     "name": "stderr",
     "output_type": "stream",
     "text": [
      "  9%|▉         | 900/10000 [00:50<08:12, 18.46it/s]"
     ]
    },
    {
     "name": "stdout",
     "output_type": "stream",
     "text": [
      "After 17900 good mazes, 8551 are unique.\n"
     ]
    },
    {
     "name": "stderr",
     "output_type": "stream",
     "text": [
      " 10%|█         | 1002/10000 [00:55<09:05, 16.51it/s]"
     ]
    },
    {
     "name": "stdout",
     "output_type": "stream",
     "text": [
      "After 18000 good mazes, 8577 are unique.\n"
     ]
    },
    {
     "name": "stderr",
     "output_type": "stream",
     "text": [
      " 11%|█         | 1105/10000 [01:01<09:14, 16.04it/s]"
     ]
    },
    {
     "name": "stdout",
     "output_type": "stream",
     "text": [
      "After 18100 good mazes, 8607 are unique.\n"
     ]
    },
    {
     "name": "stderr",
     "output_type": "stream",
     "text": [
      " 12%|█▏        | 1201/10000 [01:06<07:26, 19.72it/s]"
     ]
    },
    {
     "name": "stdout",
     "output_type": "stream",
     "text": [
      "After 18200 good mazes, 8630 are unique.\n"
     ]
    },
    {
     "name": "stderr",
     "output_type": "stream",
     "text": [
      " 13%|█▎        | 1306/10000 [01:11<05:50, 24.81it/s]"
     ]
    },
    {
     "name": "stdout",
     "output_type": "stream",
     "text": [
      "After 18300 good mazes, 8657 are unique.\n"
     ]
    },
    {
     "name": "stderr",
     "output_type": "stream",
     "text": [
      " 14%|█▍        | 1398/10000 [01:16<07:06, 20.15it/s]"
     ]
    },
    {
     "name": "stdout",
     "output_type": "stream",
     "text": [
      "After 18400 good mazes, 8690 are unique.\n"
     ]
    },
    {
     "name": "stderr",
     "output_type": "stream",
     "text": [
      " 15%|█▌        | 1504/10000 [01:22<06:41, 21.14it/s]"
     ]
    },
    {
     "name": "stdout",
     "output_type": "stream",
     "text": [
      "After 18500 good mazes, 8720 are unique.\n"
     ]
    },
    {
     "name": "stderr",
     "output_type": "stream",
     "text": [
      " 16%|█▌        | 1603/10000 [01:27<06:50, 20.47it/s]"
     ]
    },
    {
     "name": "stdout",
     "output_type": "stream",
     "text": [
      "After 18600 good mazes, 8748 are unique.\n"
     ]
    },
    {
     "name": "stderr",
     "output_type": "stream",
     "text": [
      " 17%|█▋        | 1703/10000 [01:32<07:12, 19.20it/s]"
     ]
    },
    {
     "name": "stdout",
     "output_type": "stream",
     "text": [
      "After 18700 good mazes, 8770 are unique.\n"
     ]
    },
    {
     "name": "stderr",
     "output_type": "stream",
     "text": [
      " 18%|█▊        | 1800/10000 [01:37<08:15, 16.54it/s]"
     ]
    },
    {
     "name": "stdout",
     "output_type": "stream",
     "text": [
      "After 18800 good mazes, 8792 are unique.\n"
     ]
    },
    {
     "name": "stderr",
     "output_type": "stream",
     "text": [
      " 19%|█▉        | 1902/10000 [01:42<13:11, 10.24it/s]"
     ]
    },
    {
     "name": "stdout",
     "output_type": "stream",
     "text": [
      "After 18900 good mazes, 8824 are unique.\n"
     ]
    },
    {
     "name": "stderr",
     "output_type": "stream",
     "text": [
      " 20%|██        | 2000/10000 [01:47<06:18, 21.14it/s]"
     ]
    },
    {
     "name": "stdout",
     "output_type": "stream",
     "text": [
      "After 19000 good mazes, 8844 are unique.\n"
     ]
    },
    {
     "name": "stderr",
     "output_type": "stream",
     "text": [
      " 21%|██        | 2099/10000 [01:53<07:03, 18.66it/s]"
     ]
    },
    {
     "name": "stdout",
     "output_type": "stream",
     "text": [
      "After 19100 good mazes, 8870 are unique.\n"
     ]
    },
    {
     "name": "stderr",
     "output_type": "stream",
     "text": [
      " 22%|██▏       | 2203/10000 [01:59<05:54, 22.00it/s]"
     ]
    },
    {
     "name": "stdout",
     "output_type": "stream",
     "text": [
      "After 19200 good mazes, 8895 are unique.\n"
     ]
    },
    {
     "name": "stderr",
     "output_type": "stream",
     "text": [
      " 23%|██▎       | 2303/10000 [02:04<06:33, 19.58it/s]"
     ]
    },
    {
     "name": "stdout",
     "output_type": "stream",
     "text": [
      "After 19300 good mazes, 8919 are unique.\n"
     ]
    },
    {
     "name": "stderr",
     "output_type": "stream",
     "text": [
      " 24%|██▍       | 2401/10000 [02:10<06:50, 18.52it/s]"
     ]
    },
    {
     "name": "stdout",
     "output_type": "stream",
     "text": [
      "After 19400 good mazes, 8939 are unique.\n"
     ]
    },
    {
     "name": "stderr",
     "output_type": "stream",
     "text": [
      " 25%|██▌       | 2501/10000 [02:16<11:52, 10.53it/s]"
     ]
    },
    {
     "name": "stdout",
     "output_type": "stream",
     "text": [
      "After 19500 good mazes, 8968 are unique.\n"
     ]
    },
    {
     "name": "stderr",
     "output_type": "stream",
     "text": [
      " 26%|██▌       | 2600/10000 [02:22<06:41, 18.45it/s]"
     ]
    },
    {
     "name": "stdout",
     "output_type": "stream",
     "text": [
      "After 19600 good mazes, 8987 are unique.\n"
     ]
    },
    {
     "name": "stderr",
     "output_type": "stream",
     "text": [
      " 27%|██▋       | 2700/10000 [02:27<07:00, 17.35it/s]"
     ]
    },
    {
     "name": "stdout",
     "output_type": "stream",
     "text": [
      "After 19700 good mazes, 9007 are unique.\n"
     ]
    },
    {
     "name": "stderr",
     "output_type": "stream",
     "text": [
      " 28%|██▊       | 2800/10000 [02:34<08:53, 13.49it/s]"
     ]
    },
    {
     "name": "stdout",
     "output_type": "stream",
     "text": [
      "After 19800 good mazes, 9036 are unique.\n"
     ]
    },
    {
     "name": "stderr",
     "output_type": "stream",
     "text": [
      " 29%|██▉       | 2902/10000 [02:40<08:01, 14.73it/s]"
     ]
    },
    {
     "name": "stdout",
     "output_type": "stream",
     "text": [
      "After 19900 good mazes, 9052 are unique.\n"
     ]
    },
    {
     "name": "stderr",
     "output_type": "stream",
     "text": [
      " 30%|███       | 3002/10000 [02:46<08:09, 14.30it/s]"
     ]
    },
    {
     "name": "stdout",
     "output_type": "stream",
     "text": [
      "After 20000 good mazes, 9075 are unique.\n"
     ]
    },
    {
     "name": "stderr",
     "output_type": "stream",
     "text": [
      " 31%|███       | 3101/10000 [02:52<09:49, 11.69it/s]"
     ]
    },
    {
     "name": "stdout",
     "output_type": "stream",
     "text": [
      "After 20100 good mazes, 9103 are unique.\n"
     ]
    },
    {
     "name": "stderr",
     "output_type": "stream",
     "text": [
      " 32%|███▏      | 3204/10000 [02:57<05:11, 21.85it/s]"
     ]
    },
    {
     "name": "stdout",
     "output_type": "stream",
     "text": [
      "After 20200 good mazes, 9124 are unique.\n"
     ]
    },
    {
     "name": "stderr",
     "output_type": "stream",
     "text": [
      " 33%|███▎      | 3301/10000 [03:02<06:11, 18.02it/s]"
     ]
    },
    {
     "name": "stdout",
     "output_type": "stream",
     "text": [
      "After 20300 good mazes, 9153 are unique.\n"
     ]
    },
    {
     "name": "stderr",
     "output_type": "stream",
     "text": [
      " 34%|███▍      | 3400/10000 [03:07<06:26, 17.09it/s]"
     ]
    },
    {
     "name": "stdout",
     "output_type": "stream",
     "text": [
      "After 20400 good mazes, 9175 are unique.\n"
     ]
    },
    {
     "name": "stderr",
     "output_type": "stream",
     "text": [
      " 35%|███▌      | 3502/10000 [03:11<05:30, 19.67it/s]"
     ]
    },
    {
     "name": "stdout",
     "output_type": "stream",
     "text": [
      "After 20500 good mazes, 9196 are unique.\n"
     ]
    },
    {
     "name": "stderr",
     "output_type": "stream",
     "text": [
      " 36%|███▌      | 3600/10000 [03:17<09:26, 11.30it/s]"
     ]
    },
    {
     "name": "stdout",
     "output_type": "stream",
     "text": [
      "After 20600 good mazes, 9221 are unique.\n"
     ]
    },
    {
     "name": "stderr",
     "output_type": "stream",
     "text": [
      " 37%|███▋      | 3699/10000 [03:22<05:08, 20.44it/s]"
     ]
    },
    {
     "name": "stdout",
     "output_type": "stream",
     "text": [
      "After 20700 good mazes, 9240 are unique.\n"
     ]
    },
    {
     "name": "stderr",
     "output_type": "stream",
     "text": [
      " 38%|███▊      | 3800/10000 [03:29<06:02, 17.09it/s]"
     ]
    },
    {
     "name": "stdout",
     "output_type": "stream",
     "text": [
      "After 20800 good mazes, 9269 are unique.\n"
     ]
    },
    {
     "name": "stderr",
     "output_type": "stream",
     "text": [
      " 39%|███▉      | 3904/10000 [03:35<05:32, 18.33it/s]"
     ]
    },
    {
     "name": "stdout",
     "output_type": "stream",
     "text": [
      "After 20900 good mazes, 9292 are unique.\n"
     ]
    },
    {
     "name": "stderr",
     "output_type": "stream",
     "text": [
      " 40%|████      | 4002/10000 [03:40<06:30, 15.35it/s]"
     ]
    },
    {
     "name": "stdout",
     "output_type": "stream",
     "text": [
      "After 21000 good mazes, 9315 are unique.\n"
     ]
    },
    {
     "name": "stderr",
     "output_type": "stream",
     "text": [
      " 41%|████      | 4102/10000 [03:44<06:05, 16.12it/s]"
     ]
    },
    {
     "name": "stdout",
     "output_type": "stream",
     "text": [
      "After 21100 good mazes, 9339 are unique.\n"
     ]
    },
    {
     "name": "stderr",
     "output_type": "stream",
     "text": [
      " 42%|████▏     | 4202/10000 [03:50<07:20, 13.15it/s]"
     ]
    },
    {
     "name": "stdout",
     "output_type": "stream",
     "text": [
      "After 21200 good mazes, 9361 are unique.\n"
     ]
    },
    {
     "name": "stderr",
     "output_type": "stream",
     "text": [
      " 43%|████▎     | 4303/10000 [03:56<05:06, 18.61it/s]"
     ]
    },
    {
     "name": "stdout",
     "output_type": "stream",
     "text": [
      "After 21300 good mazes, 9392 are unique.\n"
     ]
    },
    {
     "name": "stderr",
     "output_type": "stream",
     "text": [
      " 44%|████▍     | 4401/10000 [04:02<06:17, 14.82it/s]"
     ]
    },
    {
     "name": "stdout",
     "output_type": "stream",
     "text": [
      "After 21400 good mazes, 9413 are unique.\n"
     ]
    },
    {
     "name": "stderr",
     "output_type": "stream",
     "text": [
      " 45%|████▌     | 4500/10000 [04:08<07:45, 11.82it/s]"
     ]
    },
    {
     "name": "stdout",
     "output_type": "stream",
     "text": [
      "After 21500 good mazes, 9431 are unique.\n"
     ]
    },
    {
     "name": "stderr",
     "output_type": "stream",
     "text": [
      " 46%|████▌     | 4601/10000 [04:14<05:42, 15.78it/s]"
     ]
    },
    {
     "name": "stdout",
     "output_type": "stream",
     "text": [
      "After 21600 good mazes, 9452 are unique.\n"
     ]
    },
    {
     "name": "stderr",
     "output_type": "stream",
     "text": [
      " 47%|████▋     | 4698/10000 [04:18<03:03, 28.88it/s]"
     ]
    },
    {
     "name": "stdout",
     "output_type": "stream",
     "text": [
      "After 21700 good mazes, 9480 are unique.\n"
     ]
    },
    {
     "name": "stderr",
     "output_type": "stream",
     "text": [
      " 48%|████▊     | 4804/10000 [04:25<05:07, 16.92it/s]"
     ]
    },
    {
     "name": "stdout",
     "output_type": "stream",
     "text": [
      "After 21800 good mazes, 9498 are unique.\n"
     ]
    },
    {
     "name": "stderr",
     "output_type": "stream",
     "text": [
      " 49%|████▉     | 4900/10000 [04:31<06:39, 12.75it/s]"
     ]
    },
    {
     "name": "stdout",
     "output_type": "stream",
     "text": [
      "After 21900 good mazes, 9522 are unique.\n"
     ]
    },
    {
     "name": "stderr",
     "output_type": "stream",
     "text": [
      " 50%|█████     | 5000/10000 [04:36<03:59, 20.86it/s]"
     ]
    },
    {
     "name": "stdout",
     "output_type": "stream",
     "text": [
      "After 22000 good mazes, 9543 are unique.\n"
     ]
    },
    {
     "name": "stderr",
     "output_type": "stream",
     "text": [
      " 51%|█████     | 5105/10000 [04:40<03:00, 27.13it/s]"
     ]
    },
    {
     "name": "stdout",
     "output_type": "stream",
     "text": [
      "After 22100 good mazes, 9563 are unique.\n"
     ]
    },
    {
     "name": "stderr",
     "output_type": "stream",
     "text": [
      " 52%|█████▏    | 5207/10000 [04:46<03:25, 23.29it/s]"
     ]
    },
    {
     "name": "stdout",
     "output_type": "stream",
     "text": [
      "After 22200 good mazes, 9577 are unique.\n"
     ]
    },
    {
     "name": "stderr",
     "output_type": "stream",
     "text": [
      " 53%|█████▎    | 5304/10000 [04:52<04:49, 16.20it/s]"
     ]
    },
    {
     "name": "stdout",
     "output_type": "stream",
     "text": [
      "After 22300 good mazes, 9600 are unique.\n"
     ]
    },
    {
     "name": "stderr",
     "output_type": "stream",
     "text": [
      " 54%|█████▍    | 5401/10000 [04:57<05:34, 13.74it/s]"
     ]
    },
    {
     "name": "stdout",
     "output_type": "stream",
     "text": [
      "After 22400 good mazes, 9616 are unique.\n"
     ]
    },
    {
     "name": "stderr",
     "output_type": "stream",
     "text": [
      " 55%|█████▌    | 5502/10000 [05:02<05:18, 14.12it/s]"
     ]
    },
    {
     "name": "stdout",
     "output_type": "stream",
     "text": [
      "After 22500 good mazes, 9641 are unique.\n"
     ]
    },
    {
     "name": "stderr",
     "output_type": "stream",
     "text": [
      " 56%|█████▌    | 5603/10000 [05:07<03:33, 20.57it/s]"
     ]
    },
    {
     "name": "stdout",
     "output_type": "stream",
     "text": [
      "After 22600 good mazes, 9664 are unique.\n"
     ]
    },
    {
     "name": "stderr",
     "output_type": "stream",
     "text": [
      " 57%|█████▋    | 5704/10000 [05:13<02:59, 23.93it/s]"
     ]
    },
    {
     "name": "stdout",
     "output_type": "stream",
     "text": [
      "After 22700 good mazes, 9678 are unique.\n"
     ]
    },
    {
     "name": "stderr",
     "output_type": "stream",
     "text": [
      " 58%|█████▊    | 5803/10000 [05:18<04:22, 16.01it/s]"
     ]
    },
    {
     "name": "stdout",
     "output_type": "stream",
     "text": [
      "After 22800 good mazes, 9694 are unique.\n"
     ]
    },
    {
     "name": "stderr",
     "output_type": "stream",
     "text": [
      " 59%|█████▉    | 5900/10000 [05:24<04:35, 14.90it/s]"
     ]
    },
    {
     "name": "stdout",
     "output_type": "stream",
     "text": [
      "After 22900 good mazes, 9711 are unique.\n"
     ]
    },
    {
     "name": "stderr",
     "output_type": "stream",
     "text": [
      " 60%|██████    | 6007/10000 [05:30<02:41, 24.80it/s]"
     ]
    },
    {
     "name": "stdout",
     "output_type": "stream",
     "text": [
      "After 23000 good mazes, 9729 are unique.\n"
     ]
    },
    {
     "name": "stderr",
     "output_type": "stream",
     "text": [
      " 61%|██████    | 6103/10000 [05:34<02:31, 25.66it/s]"
     ]
    },
    {
     "name": "stdout",
     "output_type": "stream",
     "text": [
      "After 23100 good mazes, 9751 are unique.\n"
     ]
    },
    {
     "name": "stderr",
     "output_type": "stream",
     "text": [
      " 62%|██████▏   | 6201/10000 [05:40<02:51, 22.12it/s]"
     ]
    },
    {
     "name": "stdout",
     "output_type": "stream",
     "text": [
      "After 23200 good mazes, 9770 are unique.\n"
     ]
    },
    {
     "name": "stderr",
     "output_type": "stream",
     "text": [
      " 63%|██████▎   | 6300/10000 [05:45<03:27, 17.81it/s]"
     ]
    },
    {
     "name": "stdout",
     "output_type": "stream",
     "text": [
      "After 23300 good mazes, 9788 are unique.\n"
     ]
    },
    {
     "name": "stderr",
     "output_type": "stream",
     "text": [
      " 64%|██████▍   | 6402/10000 [05:51<03:46, 15.91it/s]"
     ]
    },
    {
     "name": "stdout",
     "output_type": "stream",
     "text": [
      "After 23400 good mazes, 9804 are unique.\n"
     ]
    },
    {
     "name": "stderr",
     "output_type": "stream",
     "text": [
      " 65%|██████▌   | 6506/10000 [05:57<04:56, 11.78it/s]"
     ]
    },
    {
     "name": "stdout",
     "output_type": "stream",
     "text": [
      "After 23500 good mazes, 9824 are unique.\n"
     ]
    },
    {
     "name": "stderr",
     "output_type": "stream",
     "text": [
      " 66%|██████▌   | 6603/10000 [06:03<02:54, 19.44it/s]"
     ]
    },
    {
     "name": "stdout",
     "output_type": "stream",
     "text": [
      "After 23600 good mazes, 9841 are unique.\n"
     ]
    },
    {
     "name": "stderr",
     "output_type": "stream",
     "text": [
      " 67%|██████▋   | 6703/10000 [06:08<04:14, 12.94it/s]"
     ]
    },
    {
     "name": "stdout",
     "output_type": "stream",
     "text": [
      "After 23700 good mazes, 9857 are unique.\n"
     ]
    },
    {
     "name": "stderr",
     "output_type": "stream",
     "text": [
      " 68%|██████▊   | 6802/10000 [06:13<03:14, 16.42it/s]"
     ]
    },
    {
     "name": "stdout",
     "output_type": "stream",
     "text": [
      "After 23800 good mazes, 9871 are unique.\n"
     ]
    },
    {
     "name": "stderr",
     "output_type": "stream",
     "text": [
      " 69%|██████▉   | 6904/10000 [06:17<02:37, 19.63it/s]"
     ]
    },
    {
     "name": "stdout",
     "output_type": "stream",
     "text": [
      "After 23900 good mazes, 9886 are unique.\n"
     ]
    },
    {
     "name": "stderr",
     "output_type": "stream",
     "text": [
      " 70%|███████   | 7000/10000 [06:23<02:28, 20.24it/s]"
     ]
    },
    {
     "name": "stdout",
     "output_type": "stream",
     "text": [
      "After 24000 good mazes, 9904 are unique.\n"
     ]
    },
    {
     "name": "stderr",
     "output_type": "stream",
     "text": [
      " 71%|███████   | 7108/10000 [06:29<01:45, 27.45it/s]"
     ]
    },
    {
     "name": "stdout",
     "output_type": "stream",
     "text": [
      "After 24100 good mazes, 9917 are unique.\n"
     ]
    },
    {
     "name": "stderr",
     "output_type": "stream",
     "text": [
      " 72%|███████▏  | 7200/10000 [06:34<03:13, 14.49it/s]"
     ]
    },
    {
     "name": "stdout",
     "output_type": "stream",
     "text": [
      "After 24200 good mazes, 9927 are unique.\n"
     ]
    },
    {
     "name": "stderr",
     "output_type": "stream",
     "text": [
      " 73%|███████▎  | 7300/10000 [06:40<02:40, 16.81it/s]"
     ]
    },
    {
     "name": "stdout",
     "output_type": "stream",
     "text": [
      "After 24300 good mazes, 9943 are unique.\n"
     ]
    },
    {
     "name": "stderr",
     "output_type": "stream",
     "text": [
      " 74%|███████▍  | 7405/10000 [06:45<02:12, 19.54it/s]"
     ]
    },
    {
     "name": "stdout",
     "output_type": "stream",
     "text": [
      "After 24400 good mazes, 9961 are unique.\n"
     ]
    },
    {
     "name": "stderr",
     "output_type": "stream",
     "text": [
      " 75%|███████▌  | 7502/10000 [06:50<02:37, 15.89it/s]"
     ]
    },
    {
     "name": "stdout",
     "output_type": "stream",
     "text": [
      "After 24500 good mazes, 9973 are unique.\n"
     ]
    },
    {
     "name": "stderr",
     "output_type": "stream",
     "text": [
      " 76%|███████▌  | 7599/10000 [06:54<01:58, 20.27it/s]"
     ]
    },
    {
     "name": "stdout",
     "output_type": "stream",
     "text": [
      "After 24600 good mazes, 9992 are unique.\n"
     ]
    },
    {
     "name": "stderr",
     "output_type": "stream",
     "text": [
      " 77%|███████▋  | 7703/10000 [07:00<02:00, 19.00it/s]"
     ]
    },
    {
     "name": "stdout",
     "output_type": "stream",
     "text": [
      "After 24700 good mazes, 10006 are unique.\n"
     ]
    },
    {
     "name": "stderr",
     "output_type": "stream",
     "text": [
      " 78%|███████▊  | 7800/10000 [07:06<02:00, 18.28it/s]"
     ]
    },
    {
     "name": "stdout",
     "output_type": "stream",
     "text": [
      "After 24800 good mazes, 10019 are unique.\n"
     ]
    },
    {
     "name": "stderr",
     "output_type": "stream",
     "text": [
      " 79%|███████▉  | 7909/10000 [07:11<01:54, 18.20it/s]"
     ]
    },
    {
     "name": "stdout",
     "output_type": "stream",
     "text": [
      "After 24900 good mazes, 10034 are unique.\n"
     ]
    },
    {
     "name": "stderr",
     "output_type": "stream",
     "text": [
      " 80%|████████  | 8003/10000 [07:17<01:32, 21.63it/s]"
     ]
    },
    {
     "name": "stdout",
     "output_type": "stream",
     "text": [
      "After 25000 good mazes, 10055 are unique.\n"
     ]
    },
    {
     "name": "stderr",
     "output_type": "stream",
     "text": [
      " 81%|████████  | 8101/10000 [07:22<02:15, 14.03it/s]"
     ]
    },
    {
     "name": "stdout",
     "output_type": "stream",
     "text": [
      "After 25100 good mazes, 10068 are unique.\n"
     ]
    },
    {
     "name": "stderr",
     "output_type": "stream",
     "text": [
      " 82%|████████▏ | 8202/10000 [07:28<01:56, 15.43it/s]"
     ]
    },
    {
     "name": "stdout",
     "output_type": "stream",
     "text": [
      "After 25200 good mazes, 10081 are unique.\n"
     ]
    },
    {
     "name": "stderr",
     "output_type": "stream",
     "text": [
      " 83%|████████▎ | 8300/10000 [07:33<01:42, 16.63it/s]"
     ]
    },
    {
     "name": "stdout",
     "output_type": "stream",
     "text": [
      "After 25300 good mazes, 10100 are unique.\n"
     ]
    },
    {
     "name": "stderr",
     "output_type": "stream",
     "text": [
      " 84%|████████▍ | 8400/10000 [07:38<01:43, 15.50it/s]"
     ]
    },
    {
     "name": "stdout",
     "output_type": "stream",
     "text": [
      "After 25400 good mazes, 10112 are unique.\n"
     ]
    },
    {
     "name": "stderr",
     "output_type": "stream",
     "text": [
      " 85%|████████▌ | 8500/10000 [07:44<01:37, 15.32it/s]"
     ]
    },
    {
     "name": "stdout",
     "output_type": "stream",
     "text": [
      "After 25500 good mazes, 10132 are unique.\n"
     ]
    },
    {
     "name": "stderr",
     "output_type": "stream",
     "text": [
      " 86%|████████▌ | 8600/10000 [07:49<02:00, 11.59it/s]"
     ]
    },
    {
     "name": "stdout",
     "output_type": "stream",
     "text": [
      "After 25600 good mazes, 10149 are unique.\n"
     ]
    },
    {
     "name": "stderr",
     "output_type": "stream",
     "text": [
      " 87%|████████▋ | 8702/10000 [07:55<01:45, 12.36it/s]"
     ]
    },
    {
     "name": "stdout",
     "output_type": "stream",
     "text": [
      "After 25700 good mazes, 10162 are unique.\n"
     ]
    },
    {
     "name": "stderr",
     "output_type": "stream",
     "text": [
      " 88%|████████▊ | 8801/10000 [08:00<00:56, 21.21it/s]"
     ]
    },
    {
     "name": "stdout",
     "output_type": "stream",
     "text": [
      "After 25800 good mazes, 10179 are unique.\n"
     ]
    },
    {
     "name": "stderr",
     "output_type": "stream",
     "text": [
      " 89%|████████▉ | 8905/10000 [08:06<01:02, 17.52it/s]"
     ]
    },
    {
     "name": "stdout",
     "output_type": "stream",
     "text": [
      "After 25900 good mazes, 10185 are unique.\n"
     ]
    },
    {
     "name": "stderr",
     "output_type": "stream",
     "text": [
      " 90%|█████████ | 9006/10000 [08:12<00:42, 23.64it/s]"
     ]
    },
    {
     "name": "stdout",
     "output_type": "stream",
     "text": [
      "After 26000 good mazes, 10196 are unique.\n"
     ]
    },
    {
     "name": "stderr",
     "output_type": "stream",
     "text": [
      " 91%|█████████ | 9100/10000 [08:17<00:46, 19.29it/s]"
     ]
    },
    {
     "name": "stdout",
     "output_type": "stream",
     "text": [
      "After 26100 good mazes, 10211 are unique.\n"
     ]
    },
    {
     "name": "stderr",
     "output_type": "stream",
     "text": [
      " 92%|█████████▏| 9202/10000 [08:23<00:55, 14.36it/s]"
     ]
    },
    {
     "name": "stdout",
     "output_type": "stream",
     "text": [
      "After 26200 good mazes, 10219 are unique.\n"
     ]
    },
    {
     "name": "stderr",
     "output_type": "stream",
     "text": [
      " 93%|█████████▎| 9302/10000 [08:28<00:54, 12.79it/s]"
     ]
    },
    {
     "name": "stdout",
     "output_type": "stream",
     "text": [
      "After 26300 good mazes, 10231 are unique.\n"
     ]
    },
    {
     "name": "stderr",
     "output_type": "stream",
     "text": [
      " 94%|█████████▍| 9406/10000 [08:33<00:26, 22.49it/s]"
     ]
    },
    {
     "name": "stdout",
     "output_type": "stream",
     "text": [
      "After 26400 good mazes, 10250 are unique.\n"
     ]
    },
    {
     "name": "stderr",
     "output_type": "stream",
     "text": [
      " 95%|█████████▌| 9502/10000 [08:38<00:30, 16.30it/s]"
     ]
    },
    {
     "name": "stdout",
     "output_type": "stream",
     "text": [
      "After 26500 good mazes, 10260 are unique.\n"
     ]
    },
    {
     "name": "stderr",
     "output_type": "stream",
     "text": [
      " 96%|█████████▌| 9605/10000 [08:43<00:18, 21.15it/s]"
     ]
    },
    {
     "name": "stdout",
     "output_type": "stream",
     "text": [
      "After 26600 good mazes, 10278 are unique.\n"
     ]
    },
    {
     "name": "stderr",
     "output_type": "stream",
     "text": [
      " 97%|█████████▋| 9700/10000 [08:48<00:16, 18.11it/s]"
     ]
    },
    {
     "name": "stdout",
     "output_type": "stream",
     "text": [
      "After 26700 good mazes, 10287 are unique.\n"
     ]
    },
    {
     "name": "stderr",
     "output_type": "stream",
     "text": [
      " 98%|█████████▊| 9804/10000 [08:54<00:11, 17.04it/s]"
     ]
    },
    {
     "name": "stdout",
     "output_type": "stream",
     "text": [
      "After 26800 good mazes, 10303 are unique.\n"
     ]
    },
    {
     "name": "stderr",
     "output_type": "stream",
     "text": [
      " 99%|█████████▉| 9897/10000 [08:58<00:03, 26.70it/s]"
     ]
    },
    {
     "name": "stdout",
     "output_type": "stream",
     "text": [
      "After 26900 good mazes, 10319 are unique.\n"
     ]
    },
    {
     "name": "stderr",
     "output_type": "stream",
     "text": [
      "100%|██████████| 10000/10000 [09:04<00:00, 18.37it/s]"
     ]
    },
    {
     "name": "stdout",
     "output_type": "stream",
     "text": [
      "After 27000 good mazes, 10336 are unique.\n"
     ]
    },
    {
     "name": "stderr",
     "output_type": "stream",
     "text": [
      "\n"
     ]
    }
   ],
   "source": [
    "from src.hexmaze import generate_good_maze\n",
    "\n",
    "run = False # Don't run this by default because it'll take forever and prevent future cells from being run\n",
    "if run:\n",
    "\n",
    "    # Load our saved set of all unique maze configurations we've generated so far\n",
    "    with open('example_data/valid_training_maze_configs.pkl', 'rb') as file:\n",
    "        valid_maze_configs = pickle.load(file)\n",
    "\n",
    "    # Load our saved list tracking how many unique configurations we have for\n",
    "    # every 100 configurations we randomly generate.\n",
    "    with open('example_data/number_of_valid_training_configs.pkl', 'rb') as file:\n",
    "        number_of_valid_configs = pickle.load(file)\n",
    "\n",
    "    # Calculate how many mazes we've already generated based on the length of our saved list\n",
    "    num_mazes_generated = len(number_of_valid_configs)*100\n",
    "\n",
    "    # Generate another 10000 valid mazes\n",
    "    num_mazes_to_generate = 10000\n",
    "\n",
    "    for i in tqdm(range(1, num_mazes_to_generate+1)):\n",
    "        # Randomly generate a valid maze configuration (first a bunch using 5 barriers, then 6) \n",
    "        maze = frozenset(generate_good_maze(num_barriers=6, training_maze=True))\n",
    "        \n",
    "        # Add the valid maze config to our set (this automatically removes any duplicates)\n",
    "        valid_maze_configs.add(maze)\n",
    "        \n",
    "        # For every 100 configurations we generate, record how many are unique\n",
    "        if i % 100 == 0: \n",
    "            num_valid = len(valid_maze_configs)\n",
    "            number_of_valid_configs.append(num_valid)\n",
    "            print(f\"After {num_mazes_generated+i} good mazes, {num_valid} are unique.\")\n",
    "\n",
    "            # Incrementally save the configs and now many are unique so far\n",
    "            with open('example_data/valid_training_maze_configs.pkl', 'wb') as file:\n",
    "                pickle.dump(valid_maze_configs, file)\n",
    "            with open('example_data/number_of_valid_training_configs.pkl', 'wb') as file:\n",
    "                pickle.dump(number_of_valid_configs, file)"
   ]
  },
  {
   "cell_type": "markdown",
   "id": "4ddb5e00",
   "metadata": {},
   "source": [
    "Now let's use the stats we kept track of during the maze generation process (how many unique mazes we have after every 100 valid mazes we randomly generate) to estimate how many unique maze configurations there are."
   ]
  },
  {
   "cell_type": "code",
   "execution_count": 3,
   "id": "a0fbf138",
   "metadata": {},
   "outputs": [
    {
     "data": {
      "image/png": "[encoded data removed]",
      "text/plain": [
       "<Figure size 640x480 with 1 Axes>"
      ]
     },
     "metadata": {},
     "output_type": "display_data"
    }
   ],
   "source": [
    "# Load our saved list tracking how many unique configurations we have for\n",
    "# every 100 configurations we randomly generate.\n",
    "with open('example_data/number_of_valid_training_configs.pkl', 'rb') as file:\n",
    "    num_valid_configs = pickle.load(file)\n",
    "\n",
    "# Set up our x axis (we recorded the number of unique configs after every 100 tries)\n",
    "num_tries = list(range(100, (len(num_valid_configs)+1)*100, 100))\n",
    "\n",
    "# Plot a unity line for comparison (if all mazes we generated were unique, our data should look like this)\n",
    "plt.plot([0, num_tries [-1]], [0, num_tries[-1]], 'k--')\n",
    "\n",
    "# Plot how many mazes we actually get\n",
    "plt.plot(num_tries, num_valid_configs, '.')\n",
    "plt.xlabel(\"Number of valid mazes generated\")\n",
    "plt.ylabel(\"Number of these that are unique\")\n",
    "plt.title(\"There are lots of unique maze configurations!\")\n",
    "plt.show()\n"
   ]
  },
  {
   "cell_type": "markdown",
   "id": "1edcbdc7",
   "metadata": {},
   "source": [
    "Great! It looks like we're beginning to reach an asymptote. \n",
    "\n",
    "(The 2 bumps are because we first started generating using 5 barriers, and then switched to 6)\n",
    "\n",
    "But we want all possible maze configurations are in our database. If we keep randomly generating configurations and hoping they are unique, this could take a really long time.\n",
    "\n",
    "We can fill in the rest of the database by taking advantage of the fact that each maze has 5 other associated barrier sets that have the same graph structure (corresponding to the maze rotated clockwise/counterclockwise and reflected across its 3 axes of symmetry). In other words, each maze has 5 other mazes that it is isomorphic to/mazes can be divided into groups of 6 that are isomorphic. Based on the asymptote we see above, it seems likely that at least 1 of the 6  possible configurations for each group of isomorphic mazes exists in our set.\n",
    "\n",
    "Let's see if this is true."
   ]
  },
  {
   "cell_type": "code",
   "execution_count": 4,
   "id": "847c1ffc",
   "metadata": {},
   "outputs": [
    {
     "name": "stdout",
     "output_type": "stream",
     "text": [
      "We have 10336 unique maze configurations in our set.\n",
      "Checking how many isomorphic mazes exist for each maze in the set (and how many are missing) ... \n"
     ]
    },
    {
     "name": "stderr",
     "output_type": "stream",
     "text": [
      "100%|██████████| 10336/10336 [00:02<00:00, 4108.93it/s]"
     ]
    },
    {
     "name": "stdout",
     "output_type": "stream",
     "text": [
      "We found 1218 unique maze configurations not in our original set.\n"
     ]
    },
    {
     "name": "stderr",
     "output_type": "stream",
     "text": [
      "\n"
     ]
    }
   ],
   "source": [
    "from src.hexmaze import num_isomorphic_mazes_in_set\n",
    "\n",
    "# Load our saved set of valid maze configurations\n",
    "with open('example_data/valid_training_maze_configs.pkl', 'rb') as file:\n",
    "    valid_mazes = pickle.load(file)\n",
    "\n",
    "print(f\"We have {len(valid_mazes)} unique maze configurations in our set.\")\n",
    "\n",
    "# Set up a list tracking the number of isomorphic mazes present for each maze \n",
    "# in the set of valid mazes. This will help us confirm our hypothesis that each \n",
    "# maze already has a number of isomorphic mazes present in our set\n",
    "num_isomorphic_mazes_for_this_maze = []\n",
    "\n",
    "# Initialize a set for all valid maze configurations that don't yet exist in our set\n",
    "valid_mazes_not_in_set = set()\n",
    "\n",
    "print(\"Checking how many isomorphic mazes exist for each maze in the set (and how many are missing) ... \")\n",
    "for maze in tqdm(valid_mazes):\n",
    "    # For each maze in our set, find all isomorphic mazes for this configuration that \n",
    "    # already exist in our larger set, and which (if any) are missing.\n",
    "    num_iso_mazes, missing_mazes = num_isomorphic_mazes_in_set(valid_mazes, maze)\n",
    "    \n",
    "    # Record how many isomorphic mazes this maze has in the set\n",
    "    num_isomorphic_mazes_for_this_maze.append(num_iso_mazes)\n",
    "    \n",
    "    # If we found valid maze configurations that don't yet exist in our larger set, add them here\n",
    "    for maze in missing_mazes:\n",
    "        valid_mazes_not_in_set.add(maze)\n",
    "        \n",
    "print(f\"We found {len(valid_mazes_not_in_set)} unique maze configurations not in our original set.\")"
   ]
  },
  {
   "cell_type": "markdown",
   "id": "80b2a66b",
   "metadata": {},
   "source": [
    "Using this data, we can plot a histogram of how many isomorphic mazes exist for each maze in our set.\n",
    "\n",
    "If most mazes have 4 or 5, it seems fairly likely that our set contains at least one maze for each set of 6 isomorphic mazes (meaning we can complete our set simply by adding these missing isomorphic mazes). \n",
    "\n",
    "If we have a lot of mazes with only 0-2 isomorphic mazes in the set, it is possible we are missing some entire groups of isomorphic mazes (meaning we should go back and generate some more mazes to make sure we get them all)."
   ]
  },
  {
   "cell_type": "code",
   "execution_count": 5,
   "id": "f978015e",
   "metadata": {},
   "outputs": [
    {
     "data": {
      "image/png": "[encoded data removed]",
      "text/plain": [
       "<Figure size 640x480 with 1 Axes>"
      ]
     },
     "metadata": {},
     "output_type": "display_data"
    }
   ],
   "source": [
    "bin_edges = range(7)  # A maze could have 0, 1, 2, 3, 4, or 5 isomorphic mazes in the set\n",
    "\n",
    "# Plot histogram of how many isomorphic mazes exist in the database for each maze\n",
    "n, bins, patches = plt.hist(num_isomorphic_mazes_for_this_maze, bins=bin_edges, edgecolor='black')\n",
    "\n",
    "# Add title and labels\n",
    "bin_centers = 0.5 * (bins[:-1] + bins[1:])\n",
    "for count, x in zip(n, bin_centers):\n",
    "    plt.text(x, count, str(int(count)), ha='center', va='bottom')\n",
    "#plt.xticks([0.5, 1.5, 2.5, 3.5, 4.5, 5.5], [0, 1, 2, 3, 4, 5])\n",
    "plt.title('Number of isomorphic mazes for each maze in the database')\n",
    "plt.xlabel('Number of isomorphic mazes')\n",
    "plt.ylabel('Frequency')\n",
    "plt.show()"
   ]
  },
  {
   "cell_type": "markdown",
   "id": "bb6444b4",
   "metadata": {},
   "source": [
    "This looks pretty good! Most of the isomorphic mazes for each maze are already in the set. \n",
    "\n",
    "By adding the few that we missed, our set should be (at least close to) complete."
   ]
  },
  {
   "cell_type": "markdown",
   "id": "3457d456",
   "metadata": {},
   "source": [
    "### Step 2: Complete the set by ensuring all isomorphic maze configurations are present"
   ]
  },
  {
   "cell_type": "code",
   "execution_count": 6,
   "id": "3dfa42ff",
   "metadata": {},
   "outputs": [
    {
     "name": "stdout",
     "output_type": "stream",
     "text": [
      "We had 10336 unique maze configurations in our set.\n",
      "We found 1218 unique maze configurations not in our original set.\n",
      "We now have 11554 unique maze configurations in our set.\n"
     ]
    }
   ],
   "source": [
    "# Now let's create a combined database with (hopefully) all possible hex maze configurations\n",
    "\n",
    "print(f\"We had {len(valid_mazes)} unique maze configurations in our set.\")\n",
    "print(f\"We found {len(valid_mazes_not_in_set)} unique maze configurations not in our original set.\")\n",
    "\n",
    "# Add the newly generated mazes to our set\n",
    "valid_mazes.update(valid_mazes_not_in_set)\n",
    "\n",
    "print(f\"We now have {len(valid_mazes)} unique maze configurations in our set.\")\n",
    "\n",
    "save = False # be warned that saving will overwrite already saved files of the same name\n",
    "# (I have added _DUPLICATE at the end of the file name as an extra check to prevent this)\n",
    "\n",
    "if save:\n",
    "    # Save our combined set of valid maze configurations to a pickle file\n",
    "    with open('example_data/all_valid_training_maze_configs_DUPLICATE.pkl', 'wb') as file:\n",
    "        pickle.dump(valid_mazes, file) "
   ]
  },
  {
   "cell_type": "markdown",
   "id": "810abb14",
   "metadata": {},
   "source": [
    "### Step 3: Store these in a database with attributes for each maze\n",
    "\n",
    "Now that we have a bunch of valid training maze configurations, how do we choose which one(s) to use?\n",
    "\n",
    "Depending on what we are trying to test, we may want mazes with certain path lengths between reward ports, certain numbers of choice points, etc. We'll calculate all of these attributes (and more!) for each maze and store them alongside the maze in the database, so it's easy to search for the exact kind of mazes we want."
   ]
  },
  {
   "cell_type": "code",
   "execution_count": 7,
   "id": "752ca0dd",
   "metadata": {},
   "outputs": [
    {
     "name": "stdout",
     "output_type": "stream",
     "text": [
      "We have 11554 maze configurations to add to our database.\n"
     ]
    },
    {
     "name": "stderr",
     "output_type": "stream",
     "text": [
      "100%|██████████| 11554/11554 [08:22<00:00, 22.97it/s]"
     ]
    },
    {
     "name": "stdout",
     "output_type": "stream",
     "text": [
      "Here is our database!\n"
     ]
    },
    {
     "name": "stderr",
     "output_type": "stream",
     "text": [
      "\n"
     ]
    },
    {
     "data": {
      "text/html": [
       "<div>\n",
       "<style scoped>\n",
       "    .dataframe tbody tr th:only-of-type {\n",
       "        vertical-align: middle;\n",
       "    }\n",
       "\n",
       "    .dataframe tbody tr th {\n",
       "        vertical-align: top;\n",
       "    }\n",
       "\n",
       "    .dataframe thead th {\n",
       "        text-align: right;\n",
       "    }\n",
       "</style>\n",
       "<table border=\"1\" class=\"dataframe\">\n",
       "  <thead>\n",
       "    <tr style=\"text-align: right;\">\n",
       "      <th></th>\n",
       "      <th>barriers</th>\n",
       "      <th>len12</th>\n",
       "      <th>len13</th>\n",
       "      <th>len23</th>\n",
       "      <th>reward_path_lengths</th>\n",
       "      <th>path_length_difference</th>\n",
       "      <th>optimal_pct</th>\n",
       "      <th>non_optimal_pct</th>\n",
       "      <th>dead_end_pct</th>\n",
       "      <th>optimal_hexes</th>\n",
       "      <th>...</th>\n",
       "      <th>num_dead_ends_min_length_4</th>\n",
       "      <th>optimal_paths_12</th>\n",
       "      <th>optimal_paths_13</th>\n",
       "      <th>optimal_paths_23</th>\n",
       "      <th>optimal_paths_all</th>\n",
       "      <th>choice_points</th>\n",
       "      <th>num_choice_points</th>\n",
       "      <th>cycles</th>\n",
       "      <th>num_cycles</th>\n",
       "      <th>isomorphic_mazes</th>\n",
       "    </tr>\n",
       "  </thead>\n",
       "  <tbody>\n",
       "    <tr>\n",
       "      <th>0</th>\n",
       "      <td>{34, 9, 11, 45, 18, 31}</td>\n",
       "      <td>15</td>\n",
       "      <td>15</td>\n",
       "      <td>15</td>\n",
       "      <td>[15, 15, 15]</td>\n",
       "      <td>0</td>\n",
       "      <td>90.70</td>\n",
       "      <td>6.98</td>\n",
       "      <td>2.33</td>\n",
       "      <td>{1, 2, 3, 4, 5, 6, 7, 8, 10, 12, 13, 15, 16, 1...</td>\n",
       "      <td>...</td>\n",
       "      <td>0</td>\n",
       "      <td>[[1, 4, 5, 7, 10, 13, 17, 21, 26, 22, 27, 32, ...</td>\n",
       "      <td>[[1, 4, 5, 7, 10, 13, 16, 12, 15, 19, 23, 28, ...</td>\n",
       "      <td>[[2, 49, 47, 42, 46, 41, 36, 30, 35, 40, 44, 3...</td>\n",
       "      <td>[[1, 4, 5, 7, 10, 13, 17, 21, 26, 22, 27, 32, ...</td>\n",
       "      <td>{48, 49, 13}</td>\n",
       "      <td>3</td>\n",
       "      <td>[[33, 28, 23, 19, 24, 29, 35, 40, 44, 39, 43, ...</td>\n",
       "      <td>7</td>\n",
       "      <td>{(18, 37, 23, 44, 13, 15), (29, 37, 9, 11, 45,...</td>\n",
       "    </tr>\n",
       "    <tr>\n",
       "      <th>1</th>\n",
       "      <td>{36, 39, 8, 11, 15, 31}</td>\n",
       "      <td>15</td>\n",
       "      <td>15</td>\n",
       "      <td>15</td>\n",
       "      <td>[15, 15, 15]</td>\n",
       "      <td>0</td>\n",
       "      <td>86.05</td>\n",
       "      <td>6.98</td>\n",
       "      <td>6.98</td>\n",
       "      <td>{1, 2, 3, 4, 5, 7, 9, 10, 12, 13, 14, 16, 17, ...</td>\n",
       "      <td>...</td>\n",
       "      <td>0</td>\n",
       "      <td>[[1, 4, 5, 7, 10, 13, 17, 14, 18, 22, 27, 32, ...</td>\n",
       "      <td>[[1, 4, 5, 7, 10, 13, 16, 20, 24, 19, 23, 28, ...</td>\n",
       "      <td>[[2, 49, 47, 42, 46, 41, 45, 40, 35, 29, 34, 2...</td>\n",
       "      <td>[[1, 4, 5, 7, 10, 13, 17, 14, 18, 22, 27, 32, ...</td>\n",
       "      <td>{49, 29, 7, 28, 13}</td>\n",
       "      <td>5</td>\n",
       "      <td>[[37, 32, 38, 49, 47, 42], [30, 25, 21, 26, 22...</td>\n",
       "      <td>7</td>\n",
       "      <td>{(32, 17, 13, 23, 28, 45), (18, 35, 7, 9, 42, ...</td>\n",
       "    </tr>\n",
       "    <tr>\n",
       "      <th>2</th>\n",
       "      <td>{36, 11, 44, 20, 21, 28}</td>\n",
       "      <td>15</td>\n",
       "      <td>15</td>\n",
       "      <td>15</td>\n",
       "      <td>[15, 15, 15]</td>\n",
       "      <td>0</td>\n",
       "      <td>81.40</td>\n",
       "      <td>9.30</td>\n",
       "      <td>9.30</td>\n",
       "      <td>{1, 2, 3, 4, 5, 6, 7, 8, 9, 10, 12, 13, 14, 15...</td>\n",
       "      <td>...</td>\n",
       "      <td>0</td>\n",
       "      <td>[[1, 4, 5, 7, 10, 13, 17, 14, 18, 22, 27, 32, ...</td>\n",
       "      <td>[[1, 4, 5, 7, 9, 12, 15, 19, 24, 29, 34, 39, 4...</td>\n",
       "      <td>[[2, 49, 47, 42, 46, 41, 45, 40, 35, 29, 34, 3...</td>\n",
       "      <td>[[1, 4, 5, 7, 10, 13, 17, 14, 18, 22, 27, 32, ...</td>\n",
       "      <td>{49, 4, 29, 7}</td>\n",
       "      <td>4</td>\n",
       "      <td>[[37, 32, 38, 49, 47, 42], [37, 31, 26, 22, 27...</td>\n",
       "      <td>5</td>\n",
       "      <td>{(20, 7, 26, 11, 44, 30), (30, 21, 24, 8, 9, 4...</td>\n",
       "    </tr>\n",
       "    <tr>\n",
       "      <th>3</th>\n",
       "      <td>{35, 10, 46, 20, 23, 27}</td>\n",
       "      <td>15</td>\n",
       "      <td>15</td>\n",
       "      <td>15</td>\n",
       "      <td>[15, 15, 15]</td>\n",
       "      <td>0</td>\n",
       "      <td>90.70</td>\n",
       "      <td>9.30</td>\n",
       "      <td>0.00</td>\n",
       "      <td>{1, 2, 3, 4, 5, 6, 7, 8, 9, 11, 12, 14, 15, 17...</td>\n",
       "      <td>...</td>\n",
       "      <td>0</td>\n",
       "      <td>[[1, 4, 6, 8, 11, 14, 18, 22, 26, 31, 37, 32, ...</td>\n",
       "      <td>[[1, 4, 5, 7, 9, 12, 15, 19, 24, 29, 34, 28, 3...</td>\n",
       "      <td>[[2, 49, 38, 32, 37, 31, 36, 41, 45, 40, 44, 3...</td>\n",
       "      <td>[[1, 4, 6, 8, 11, 14, 18, 22, 26, 31, 37, 32, ...</td>\n",
       "      <td>{48, 4, 39, 31}</td>\n",
       "      <td>4</td>\n",
       "      <td>[[31, 26, 21, 25, 30, 36], [17, 14, 18, 22, 26...</td>\n",
       "      <td>6</td>\n",
       "      <td>{(17, 34, 20, 9, 27, 46), (37, 24, 9, 11, 44, ...</td>\n",
       "    </tr>\n",
       "    <tr>\n",
       "      <th>4</th>\n",
       "      <td>{9, 11, 45, 20, 25, 31}</td>\n",
       "      <td>15</td>\n",
       "      <td>15</td>\n",
       "      <td>15</td>\n",
       "      <td>[15, 15, 15]</td>\n",
       "      <td>0</td>\n",
       "      <td>95.35</td>\n",
       "      <td>4.65</td>\n",
       "      <td>0.00</td>\n",
       "      <td>{1, 2, 3, 4, 5, 6, 7, 8, 10, 12, 13, 14, 15, 1...</td>\n",
       "      <td>...</td>\n",
       "      <td>0</td>\n",
       "      <td>[[1, 4, 5, 7, 10, 13, 17, 14, 18, 22, 27, 32, ...</td>\n",
       "      <td>[[1, 4, 5, 7, 10, 13, 16, 12, 15, 19, 23, 28, ...</td>\n",
       "      <td>[[2, 49, 47, 42, 46, 41, 36, 30, 35, 29, 34, 2...</td>\n",
       "      <td>[[1, 4, 5, 7, 10, 13, 17, 14, 18, 22, 27, 32, ...</td>\n",
       "      <td>{48, 49, 28, 13}</td>\n",
       "      <td>4</td>\n",
       "      <td>[[34, 29, 35, 40, 44, 39], [34, 28, 23, 19, 24...</td>\n",
       "      <td>7</td>\n",
       "      <td>{(18, 20, 23, 25, 44, 31), (21, 25, 27, 29, 46...</td>\n",
       "    </tr>\n",
       "    <tr>\n",
       "      <th>...</th>\n",
       "      <td>...</td>\n",
       "      <td>...</td>\n",
       "      <td>...</td>\n",
       "      <td>...</td>\n",
       "      <td>...</td>\n",
       "      <td>...</td>\n",
       "      <td>...</td>\n",
       "      <td>...</td>\n",
       "      <td>...</td>\n",
       "      <td>...</td>\n",
       "      <td>...</td>\n",
       "      <td>...</td>\n",
       "      <td>...</td>\n",
       "      <td>...</td>\n",
       "      <td>...</td>\n",
       "      <td>...</td>\n",
       "      <td>...</td>\n",
       "      <td>...</td>\n",
       "      <td>...</td>\n",
       "      <td>...</td>\n",
       "      <td>...</td>\n",
       "    </tr>\n",
       "    <tr>\n",
       "      <th>11549</th>\n",
       "      <td>{37, 39, 16, 18, 20, 23}</td>\n",
       "      <td>15</td>\n",
       "      <td>15</td>\n",
       "      <td>15</td>\n",
       "      <td>[15, 15, 15]</td>\n",
       "      <td>0</td>\n",
       "      <td>90.70</td>\n",
       "      <td>4.65</td>\n",
       "      <td>4.65</td>\n",
       "      <td>{1, 2, 3, 4, 5, 6, 7, 8, 9, 10, 11, 12, 13, 14...</td>\n",
       "      <td>...</td>\n",
       "      <td>0</td>\n",
       "      <td>[[1, 4, 5, 7, 10, 13, 17, 21, 26, 22, 27, 32, ...</td>\n",
       "      <td>[[1, 4, 5, 7, 9, 12, 15, 19, 24, 29, 34, 28, 3...</td>\n",
       "      <td>[[2, 49, 47, 42, 46, 41, 36, 30, 35, 29, 34, 2...</td>\n",
       "      <td>[[1, 4, 5, 7, 10, 13, 17, 21, 26, 22, 27, 32, ...</td>\n",
       "      <td>{49, 4, 29, 7}</td>\n",
       "      <td>4</td>\n",
       "      <td>[[36, 31, 26, 22, 27, 32, 38, 49, 47, 42, 46, ...</td>\n",
       "      <td>6</td>\n",
       "      <td>{(17, 34, 21, 42, 27, 15), (20, 37, 8, 9, 45, ...</td>\n",
       "    </tr>\n",
       "    <tr>\n",
       "      <th>11550</th>\n",
       "      <td>{37, 40, 13, 18, 19}</td>\n",
       "      <td>15</td>\n",
       "      <td>15</td>\n",
       "      <td>15</td>\n",
       "      <td>[15, 15, 15]</td>\n",
       "      <td>0</td>\n",
       "      <td>84.09</td>\n",
       "      <td>6.82</td>\n",
       "      <td>9.09</td>\n",
       "      <td>{1, 2, 3, 4, 5, 6, 7, 8, 9, 11, 12, 14, 16, 17...</td>\n",
       "      <td>...</td>\n",
       "      <td>0</td>\n",
       "      <td>[[1, 4, 6, 8, 11, 14, 17, 21, 26, 22, 27, 32, ...</td>\n",
       "      <td>[[1, 4, 5, 7, 9, 12, 16, 20, 24, 29, 34, 28, 3...</td>\n",
       "      <td>[[2, 49, 47, 42, 46, 41, 36, 30, 35, 29, 34, 2...</td>\n",
       "      <td>[[1, 4, 6, 8, 11, 14, 17, 21, 26, 22, 27, 32, ...</td>\n",
       "      <td>{49, 4, 29}</td>\n",
       "      <td>3</td>\n",
       "      <td>[[33, 28, 34, 39, 43, 48], [31, 26, 22, 27, 32...</td>\n",
       "      <td>6</td>\n",
       "      <td>{(18, 19, 40, 10, 31), (22, 41, 10, 29, 15), (...</td>\n",
       "    </tr>\n",
       "    <tr>\n",
       "      <th>11551</th>\n",
       "      <td>{32, 45, 13, 46, 18, 28}</td>\n",
       "      <td>15</td>\n",
       "      <td>15</td>\n",
       "      <td>15</td>\n",
       "      <td>[15, 15, 15]</td>\n",
       "      <td>0</td>\n",
       "      <td>81.40</td>\n",
       "      <td>4.65</td>\n",
       "      <td>13.95</td>\n",
       "      <td>{1, 2, 3, 4, 5, 6, 7, 8, 9, 11, 12, 14, 15, 16...</td>\n",
       "      <td>...</td>\n",
       "      <td>0</td>\n",
       "      <td>[[1, 4, 6, 8, 11, 14, 17, 21, 26, 31, 37, 42, ...</td>\n",
       "      <td>[[1, 4, 5, 7, 9, 12, 16, 20, 24, 29, 34, 39, 4...</td>\n",
       "      <td>[[2, 49, 47, 42, 37, 31, 36, 30, 35, 29, 34, 3...</td>\n",
       "      <td>[[1, 4, 6, 8, 11, 14, 17, 21, 26, 31, 37, 42, ...</td>\n",
       "      <td>{39, 4, 29, 31}</td>\n",
       "      <td>4</td>\n",
       "      <td>[[34, 29, 35, 40, 44, 39], [20, 16, 12, 15, 19...</td>\n",
       "      <td>6</td>\n",
       "      <td>{(18, 39, 8, 9, 31, 15), (18, 29, 7, 42, 27, 4...</td>\n",
       "    </tr>\n",
       "    <tr>\n",
       "      <th>11552</th>\n",
       "      <td>{7, 9, 11, 45, 21, 29}</td>\n",
       "      <td>15</td>\n",
       "      <td>15</td>\n",
       "      <td>15</td>\n",
       "      <td>[15, 15, 15]</td>\n",
       "      <td>0</td>\n",
       "      <td>90.70</td>\n",
       "      <td>6.98</td>\n",
       "      <td>2.33</td>\n",
       "      <td>{1, 2, 3, 4, 6, 8, 10, 12, 13, 14, 15, 16, 17,...</td>\n",
       "      <td>...</td>\n",
       "      <td>0</td>\n",
       "      <td>[[1, 4, 6, 8, 10, 13, 17, 14, 18, 22, 27, 32, ...</td>\n",
       "      <td>[[1, 4, 6, 8, 10, 13, 16, 12, 15, 19, 23, 28, ...</td>\n",
       "      <td>[[2, 49, 38, 32, 37, 31, 36, 30, 35, 40, 44, 3...</td>\n",
       "      <td>[[1, 4, 6, 8, 10, 13, 17, 14, 18, 22, 27, 32, ...</td>\n",
       "      <td>{32, 49, 48, 13}</td>\n",
       "      <td>4</td>\n",
       "      <td>[[37, 32, 38, 49, 47, 42], [31, 26, 22, 27, 32...</td>\n",
       "      <td>7</td>\n",
       "      <td>{(32, 30, 27, 13, 46, 15), (20, 8, 9, 11, 45, ...</td>\n",
       "    </tr>\n",
       "    <tr>\n",
       "      <th>11553</th>\n",
       "      <td>{8, 9, 11, 45, 29, 31}</td>\n",
       "      <td>15</td>\n",
       "      <td>15</td>\n",
       "      <td>15</td>\n",
       "      <td>[15, 15, 15]</td>\n",
       "      <td>0</td>\n",
       "      <td>90.70</td>\n",
       "      <td>6.98</td>\n",
       "      <td>2.33</td>\n",
       "      <td>{1, 2, 3, 4, 5, 7, 10, 12, 13, 14, 15, 16, 17,...</td>\n",
       "      <td>...</td>\n",
       "      <td>0</td>\n",
       "      <td>[[1, 4, 5, 7, 10, 13, 17, 14, 18, 22, 27, 32, ...</td>\n",
       "      <td>[[1, 4, 5, 7, 10, 13, 16, 12, 15, 19, 23, 28, ...</td>\n",
       "      <td>[[2, 49, 47, 42, 46, 41, 36, 30, 35, 40, 44, 3...</td>\n",
       "      <td>[[1, 4, 5, 7, 10, 13, 17, 14, 18, 22, 27, 32, ...</td>\n",
       "      <td>{48, 49, 13}</td>\n",
       "      <td>3</td>\n",
       "      <td>[[37, 32, 38, 49, 47, 42], [25, 21, 26, 22, 27...</td>\n",
       "      <td>7</td>\n",
       "      <td>{(32, 29, 27, 13, 46, 15), (18, 28, 23, 44, 13...</td>\n",
       "    </tr>\n",
       "  </tbody>\n",
       "</table>\n",
       "<p>11554 rows × 26 columns</p>\n",
       "</div>"
      ],
      "text/plain": [
       "                       barriers  len12  len13  len23 reward_path_lengths  \\\n",
       "0       {34, 9, 11, 45, 18, 31}     15     15     15        [15, 15, 15]   \n",
       "1       {36, 39, 8, 11, 15, 31}     15     15     15        [15, 15, 15]   \n",
       "2      {36, 11, 44, 20, 21, 28}     15     15     15        [15, 15, 15]   \n",
       "3      {35, 10, 46, 20, 23, 27}     15     15     15        [15, 15, 15]   \n",
       "4       {9, 11, 45, 20, 25, 31}     15     15     15        [15, 15, 15]   \n",
       "...                         ...    ...    ...    ...                 ...   \n",
       "11549  {37, 39, 16, 18, 20, 23}     15     15     15        [15, 15, 15]   \n",
       "11550      {37, 40, 13, 18, 19}     15     15     15        [15, 15, 15]   \n",
       "11551  {32, 45, 13, 46, 18, 28}     15     15     15        [15, 15, 15]   \n",
       "11552    {7, 9, 11, 45, 21, 29}     15     15     15        [15, 15, 15]   \n",
       "11553    {8, 9, 11, 45, 29, 31}     15     15     15        [15, 15, 15]   \n",
       "\n",
       "       path_length_difference  optimal_pct  non_optimal_pct  dead_end_pct  \\\n",
       "0                           0        90.70             6.98          2.33   \n",
       "1                           0        86.05             6.98          6.98   \n",
       "2                           0        81.40             9.30          9.30   \n",
       "3                           0        90.70             9.30          0.00   \n",
       "4                           0        95.35             4.65          0.00   \n",
       "...                       ...          ...              ...           ...   \n",
       "11549                       0        90.70             4.65          4.65   \n",
       "11550                       0        84.09             6.82          9.09   \n",
       "11551                       0        81.40             4.65         13.95   \n",
       "11552                       0        90.70             6.98          2.33   \n",
       "11553                       0        90.70             6.98          2.33   \n",
       "\n",
       "                                           optimal_hexes  ...  \\\n",
       "0      {1, 2, 3, 4, 5, 6, 7, 8, 10, 12, 13, 15, 16, 1...  ...   \n",
       "1      {1, 2, 3, 4, 5, 7, 9, 10, 12, 13, 14, 16, 17, ...  ...   \n",
       "2      {1, 2, 3, 4, 5, 6, 7, 8, 9, 10, 12, 13, 14, 15...  ...   \n",
       "3      {1, 2, 3, 4, 5, 6, 7, 8, 9, 11, 12, 14, 15, 17...  ...   \n",
       "4      {1, 2, 3, 4, 5, 6, 7, 8, 10, 12, 13, 14, 15, 1...  ...   \n",
       "...                                                  ...  ...   \n",
       "11549  {1, 2, 3, 4, 5, 6, 7, 8, 9, 10, 11, 12, 13, 14...  ...   \n",
       "11550  {1, 2, 3, 4, 5, 6, 7, 8, 9, 11, 12, 14, 16, 17...  ...   \n",
       "11551  {1, 2, 3, 4, 5, 6, 7, 8, 9, 11, 12, 14, 15, 16...  ...   \n",
       "11552  {1, 2, 3, 4, 6, 8, 10, 12, 13, 14, 15, 16, 17,...  ...   \n",
       "11553  {1, 2, 3, 4, 5, 7, 10, 12, 13, 14, 15, 16, 17,...  ...   \n",
       "\n",
       "      num_dead_ends_min_length_4  \\\n",
       "0                              0   \n",
       "1                              0   \n",
       "2                              0   \n",
       "3                              0   \n",
       "4                              0   \n",
       "...                          ...   \n",
       "11549                          0   \n",
       "11550                          0   \n",
       "11551                          0   \n",
       "11552                          0   \n",
       "11553                          0   \n",
       "\n",
       "                                        optimal_paths_12  \\\n",
       "0      [[1, 4, 5, 7, 10, 13, 17, 21, 26, 22, 27, 32, ...   \n",
       "1      [[1, 4, 5, 7, 10, 13, 17, 14, 18, 22, 27, 32, ...   \n",
       "2      [[1, 4, 5, 7, 10, 13, 17, 14, 18, 22, 27, 32, ...   \n",
       "3      [[1, 4, 6, 8, 11, 14, 18, 22, 26, 31, 37, 32, ...   \n",
       "4      [[1, 4, 5, 7, 10, 13, 17, 14, 18, 22, 27, 32, ...   \n",
       "...                                                  ...   \n",
       "11549  [[1, 4, 5, 7, 10, 13, 17, 21, 26, 22, 27, 32, ...   \n",
       "11550  [[1, 4, 6, 8, 11, 14, 17, 21, 26, 22, 27, 32, ...   \n",
       "11551  [[1, 4, 6, 8, 11, 14, 17, 21, 26, 31, 37, 42, ...   \n",
       "11552  [[1, 4, 6, 8, 10, 13, 17, 14, 18, 22, 27, 32, ...   \n",
       "11553  [[1, 4, 5, 7, 10, 13, 17, 14, 18, 22, 27, 32, ...   \n",
       "\n",
       "                                        optimal_paths_13  \\\n",
       "0      [[1, 4, 5, 7, 10, 13, 16, 12, 15, 19, 23, 28, ...   \n",
       "1      [[1, 4, 5, 7, 10, 13, 16, 20, 24, 19, 23, 28, ...   \n",
       "2      [[1, 4, 5, 7, 9, 12, 15, 19, 24, 29, 34, 39, 4...   \n",
       "3      [[1, 4, 5, 7, 9, 12, 15, 19, 24, 29, 34, 28, 3...   \n",
       "4      [[1, 4, 5, 7, 10, 13, 16, 12, 15, 19, 23, 28, ...   \n",
       "...                                                  ...   \n",
       "11549  [[1, 4, 5, 7, 9, 12, 15, 19, 24, 29, 34, 28, 3...   \n",
       "11550  [[1, 4, 5, 7, 9, 12, 16, 20, 24, 29, 34, 28, 3...   \n",
       "11551  [[1, 4, 5, 7, 9, 12, 16, 20, 24, 29, 34, 39, 4...   \n",
       "11552  [[1, 4, 6, 8, 10, 13, 16, 12, 15, 19, 23, 28, ...   \n",
       "11553  [[1, 4, 5, 7, 10, 13, 16, 12, 15, 19, 23, 28, ...   \n",
       "\n",
       "                                        optimal_paths_23  \\\n",
       "0      [[2, 49, 47, 42, 46, 41, 36, 30, 35, 40, 44, 3...   \n",
       "1      [[2, 49, 47, 42, 46, 41, 45, 40, 35, 29, 34, 2...   \n",
       "2      [[2, 49, 47, 42, 46, 41, 45, 40, 35, 29, 34, 3...   \n",
       "3      [[2, 49, 38, 32, 37, 31, 36, 41, 45, 40, 44, 3...   \n",
       "4      [[2, 49, 47, 42, 46, 41, 36, 30, 35, 29, 34, 2...   \n",
       "...                                                  ...   \n",
       "11549  [[2, 49, 47, 42, 46, 41, 36, 30, 35, 29, 34, 2...   \n",
       "11550  [[2, 49, 47, 42, 46, 41, 36, 30, 35, 29, 34, 2...   \n",
       "11551  [[2, 49, 47, 42, 37, 31, 36, 30, 35, 29, 34, 3...   \n",
       "11552  [[2, 49, 38, 32, 37, 31, 36, 30, 35, 40, 44, 3...   \n",
       "11553  [[2, 49, 47, 42, 46, 41, 36, 30, 35, 40, 44, 3...   \n",
       "\n",
       "                                       optimal_paths_all        choice_points  \\\n",
       "0      [[1, 4, 5, 7, 10, 13, 17, 21, 26, 22, 27, 32, ...         {48, 49, 13}   \n",
       "1      [[1, 4, 5, 7, 10, 13, 17, 14, 18, 22, 27, 32, ...  {49, 29, 7, 28, 13}   \n",
       "2      [[1, 4, 5, 7, 10, 13, 17, 14, 18, 22, 27, 32, ...       {49, 4, 29, 7}   \n",
       "3      [[1, 4, 6, 8, 11, 14, 18, 22, 26, 31, 37, 32, ...      {48, 4, 39, 31}   \n",
       "4      [[1, 4, 5, 7, 10, 13, 17, 14, 18, 22, 27, 32, ...     {48, 49, 28, 13}   \n",
       "...                                                  ...                  ...   \n",
       "11549  [[1, 4, 5, 7, 10, 13, 17, 21, 26, 22, 27, 32, ...       {49, 4, 29, 7}   \n",
       "11550  [[1, 4, 6, 8, 11, 14, 17, 21, 26, 22, 27, 32, ...          {49, 4, 29}   \n",
       "11551  [[1, 4, 6, 8, 11, 14, 17, 21, 26, 31, 37, 42, ...      {39, 4, 29, 31}   \n",
       "11552  [[1, 4, 6, 8, 10, 13, 17, 14, 18, 22, 27, 32, ...     {32, 49, 48, 13}   \n",
       "11553  [[1, 4, 5, 7, 10, 13, 17, 14, 18, 22, 27, 32, ...         {48, 49, 13}   \n",
       "\n",
       "       num_choice_points                                             cycles  \\\n",
       "0                      3  [[33, 28, 23, 19, 24, 29, 35, 40, 44, 39, 43, ...   \n",
       "1                      5  [[37, 32, 38, 49, 47, 42], [30, 25, 21, 26, 22...   \n",
       "2                      4  [[37, 32, 38, 49, 47, 42], [37, 31, 26, 22, 27...   \n",
       "3                      4  [[31, 26, 21, 25, 30, 36], [17, 14, 18, 22, 26...   \n",
       "4                      4  [[34, 29, 35, 40, 44, 39], [34, 28, 23, 19, 24...   \n",
       "...                  ...                                                ...   \n",
       "11549                  4  [[36, 31, 26, 22, 27, 32, 38, 49, 47, 42, 46, ...   \n",
       "11550                  3  [[33, 28, 34, 39, 43, 48], [31, 26, 22, 27, 32...   \n",
       "11551                  4  [[34, 29, 35, 40, 44, 39], [20, 16, 12, 15, 19...   \n",
       "11552                  4  [[37, 32, 38, 49, 47, 42], [31, 26, 22, 27, 32...   \n",
       "11553                  3  [[37, 32, 38, 49, 47, 42], [25, 21, 26, 22, 27...   \n",
       "\n",
       "      num_cycles                                   isomorphic_mazes  \n",
       "0              7  {(18, 37, 23, 44, 13, 15), (29, 37, 9, 11, 45,...  \n",
       "1              7  {(32, 17, 13, 23, 28, 45), (18, 35, 7, 9, 42, ...  \n",
       "2              5  {(20, 7, 26, 11, 44, 30), (30, 21, 24, 8, 9, 4...  \n",
       "3              6  {(17, 34, 20, 9, 27, 46), (37, 24, 9, 11, 44, ...  \n",
       "4              7  {(18, 20, 23, 25, 44, 31), (21, 25, 27, 29, 46...  \n",
       "...          ...                                                ...  \n",
       "11549          6  {(17, 34, 21, 42, 27, 15), (20, 37, 8, 9, 45, ...  \n",
       "11550          6  {(18, 19, 40, 10, 31), (22, 41, 10, 29, 15), (...  \n",
       "11551          6  {(18, 39, 8, 9, 31, 15), (18, 29, 7, 42, 27, 4...  \n",
       "11552          7  {(32, 30, 27, 13, 46, 15), (20, 8, 9, 11, 45, ...  \n",
       "11553          7  {(32, 29, 27, 13, 46, 15), (18, 28, 23, 44, 13...  \n",
       "\n",
       "[11554 rows x 26 columns]"
      ]
     },
     "metadata": {},
     "output_type": "display_data"
    }
   ],
   "source": [
    "from src.hexmaze import get_maze_attributes\n",
    "\n",
    "# Load our saved set of all valid maze configurations\n",
    "with open('example_data/all_valid_training_maze_configs.pkl', 'rb') as file:\n",
    "    all_valid_mazes = pickle.load(file)\n",
    "    \n",
    "# Convert it to a list so we can iterate\n",
    "all_mazes = list(all_valid_mazes)\n",
    "print(f\"We have {len(all_mazes)} maze configurations to add to our database.\")\n",
    "\n",
    "maze_dicts = []\n",
    "# Calculate info for each maze and add it to our dictionary\n",
    "for maze in tqdm(all_mazes):\n",
    "    maze_attributes = get_maze_attributes(maze)\n",
    "    maze_dicts.append(maze_attributes)\n",
    "\n",
    "# Create DataFrame\n",
    "maze_configuration_database = pd.DataFrame(maze_dicts)\n",
    "\n",
    "print(\"Here is our database!\")\n",
    "display(maze_configuration_database)"
   ]
  },
  {
   "cell_type": "markdown",
   "id": "ecd6cc72",
   "metadata": {},
   "source": [
    "Let's save our database for later use. Now that the database has been created, we can just load it whenever we want and we shouldn't need to run this notebook again (unless we want to generate a new database using different criteria for what constitutes a \"valid\" hex maze). "
   ]
  },
  {
   "cell_type": "code",
   "execution_count": 9,
   "id": "61bb1a89",
   "metadata": {},
   "outputs": [],
   "source": [
    "save = False # be warned that saving will overwrite already saved files of the same name\n",
    "# (I have added _DUPLICATE at the end of the file name as an extra check to prevent this)\n",
    "\n",
    "if save:\n",
    "    # Save the database as a CSV for readability without loading in a notebook\n",
    "    maze_configuration_database.to_csv('../Maze_Databases/training_maze_database_DUPLICATE.csv', index=False)\n",
    "    \n",
    "    # And also using pickle - this is better for loading in notebooks\n",
    "    maze_configuration_database.to_pickle('../Maze_Databases/training_maze_database_DUPLICATE.pkl')"
   ]
  },
  {
   "cell_type": "markdown",
   "id": "a2a8a923",
   "metadata": {},
   "source": [
    "### Step 4: Loading the database for use in your notebooks! \n",
    "\n",
    "IMPORTANT: Make sure to load the pickle (.pkl) version instead of the csv (.csv) version - the csv version loads variables as strings and messes things up. (We save both versions because the csv version is nice if you want to open the database in excel or something)\n"
   ]
  },
  {
   "cell_type": "code",
   "execution_count": 10,
   "id": "20bbe722",
   "metadata": {},
   "outputs": [
    {
     "name": "stdout",
     "output_type": "stream",
     "text": [
      "There are 11554 mazes in our database.\n"
     ]
    }
   ],
   "source": [
    "# Loads the database as \"df\"\n",
    "df = pd.read_pickle('../Maze_Databases/training_maze_database_new.pkl')\n",
    "print(f\"There are {len(df)} mazes in our database.\")"
   ]
  },
  {
   "cell_type": "markdown",
   "id": "470475a8",
   "metadata": {},
   "source": [
    "### Filter the database based on different criteria"
   ]
  },
  {
   "cell_type": "code",
   "execution_count": 11,
   "id": "fa3eaeb5",
   "metadata": {},
   "outputs": [
    {
     "name": "stdout",
     "output_type": "stream",
     "text": [
      "There are 2791 mazes with exactly 3 choice points:\n"
     ]
    },
    {
     "data": {
      "text/html": [
       "<div>\n",
       "<style scoped>\n",
       "    .dataframe tbody tr th:only-of-type {\n",
       "        vertical-align: middle;\n",
       "    }\n",
       "\n",
       "    .dataframe tbody tr th {\n",
       "        vertical-align: top;\n",
       "    }\n",
       "\n",
       "    .dataframe thead th {\n",
       "        text-align: right;\n",
       "    }\n",
       "</style>\n",
       "<table border=\"1\" class=\"dataframe\">\n",
       "  <thead>\n",
       "    <tr style=\"text-align: right;\">\n",
       "      <th></th>\n",
       "      <th>barriers</th>\n",
       "      <th>len12</th>\n",
       "      <th>len13</th>\n",
       "      <th>len23</th>\n",
       "      <th>reward_path_lengths</th>\n",
       "      <th>path_length_difference</th>\n",
       "      <th>optimal_pct</th>\n",
       "      <th>non_optimal_pct</th>\n",
       "      <th>dead_end_pct</th>\n",
       "      <th>optimal_hexes</th>\n",
       "      <th>...</th>\n",
       "      <th>num_dead_ends_min_length_4</th>\n",
       "      <th>optimal_paths_12</th>\n",
       "      <th>optimal_paths_13</th>\n",
       "      <th>optimal_paths_23</th>\n",
       "      <th>optimal_paths_all</th>\n",
       "      <th>choice_points</th>\n",
       "      <th>num_choice_points</th>\n",
       "      <th>cycles</th>\n",
       "      <th>num_cycles</th>\n",
       "      <th>isomorphic_mazes</th>\n",
       "    </tr>\n",
       "  </thead>\n",
       "  <tbody>\n",
       "    <tr>\n",
       "      <th>0</th>\n",
       "      <td>{34, 9, 11, 45, 18, 31}</td>\n",
       "      <td>15</td>\n",
       "      <td>15</td>\n",
       "      <td>15</td>\n",
       "      <td>[15, 15, 15]</td>\n",
       "      <td>0</td>\n",
       "      <td>90.70</td>\n",
       "      <td>6.98</td>\n",
       "      <td>2.33</td>\n",
       "      <td>{1, 2, 3, 4, 5, 6, 7, 8, 10, 12, 13, 15, 16, 1...</td>\n",
       "      <td>...</td>\n",
       "      <td>0</td>\n",
       "      <td>[[1, 4, 5, 7, 10, 13, 17, 21, 26, 22, 27, 32, ...</td>\n",
       "      <td>[[1, 4, 5, 7, 10, 13, 16, 12, 15, 19, 23, 28, ...</td>\n",
       "      <td>[[2, 49, 47, 42, 46, 41, 36, 30, 35, 40, 44, 3...</td>\n",
       "      <td>[[1, 4, 5, 7, 10, 13, 17, 21, 26, 22, 27, 32, ...</td>\n",
       "      <td>{48, 49, 13}</td>\n",
       "      <td>3</td>\n",
       "      <td>[[33, 28, 23, 19, 24, 29, 35, 40, 44, 39, 43, ...</td>\n",
       "      <td>7</td>\n",
       "      <td>{(37, 44, 13, 15, 18, 23), (37, 9, 11, 45, 15,...</td>\n",
       "    </tr>\n",
       "    <tr>\n",
       "      <th>9</th>\n",
       "      <td>{32, 7, 46, 21, 27, 29}</td>\n",
       "      <td>15</td>\n",
       "      <td>15</td>\n",
       "      <td>15</td>\n",
       "      <td>[15, 15, 15]</td>\n",
       "      <td>0</td>\n",
       "      <td>86.05</td>\n",
       "      <td>6.98</td>\n",
       "      <td>6.98</td>\n",
       "      <td>{1, 2, 3, 4, 6, 8, 10, 11, 12, 13, 14, 15, 16,...</td>\n",
       "      <td>...</td>\n",
       "      <td>0</td>\n",
       "      <td>[[1, 4, 6, 8, 11, 14, 18, 22, 26, 31, 37, 42, ...</td>\n",
       "      <td>[[1, 4, 6, 8, 10, 13, 16, 12, 15, 19, 23, 28, ...</td>\n",
       "      <td>[[2, 49, 47, 42, 37, 31, 36, 30, 35, 40, 44, 3...</td>\n",
       "      <td>[[1, 4, 6, 8, 11, 14, 18, 22, 26, 31, 37, 42, ...</td>\n",
       "      <td>{8, 48, 31}</td>\n",
       "      <td>3</td>\n",
       "      <td>[[35, 30, 36, 41, 45, 40], [34, 28, 23, 19, 24...</td>\n",
       "      <td>6</td>\n",
       "      <td>{(8, 9, 42, 11, 21, 29), (32, 39, 44, 13, 23, ...</td>\n",
       "    </tr>\n",
       "    <tr>\n",
       "      <th>10</th>\n",
       "      <td>{34, 37, 7, 11, 45, 26}</td>\n",
       "      <td>15</td>\n",
       "      <td>15</td>\n",
       "      <td>15</td>\n",
       "      <td>[15, 15, 15]</td>\n",
       "      <td>0</td>\n",
       "      <td>86.05</td>\n",
       "      <td>6.98</td>\n",
       "      <td>6.98</td>\n",
       "      <td>{1, 2, 3, 4, 6, 8, 10, 12, 13, 14, 15, 16, 17,...</td>\n",
       "      <td>...</td>\n",
       "      <td>0</td>\n",
       "      <td>[[1, 4, 6, 8, 10, 13, 17, 14, 18, 22, 27, 32, ...</td>\n",
       "      <td>[[1, 4, 6, 8, 10, 13, 16, 12, 15, 19, 23, 28, ...</td>\n",
       "      <td>[[2, 49, 47, 42, 46, 41, 36, 30, 35, 40, 44, 3...</td>\n",
       "      <td>[[1, 4, 6, 8, 10, 13, 17, 14, 18, 22, 27, 32, ...</td>\n",
       "      <td>{48, 49, 13}</td>\n",
       "      <td>3</td>\n",
       "      <td>[[33, 28, 23, 19, 24, 29, 35, 40, 44, 39, 43, ...</td>\n",
       "      <td>5</td>\n",
       "      <td>{(32, 34, 35, 10, 46, 15), (34, 37, 8, 9, 45, ...</td>\n",
       "    </tr>\n",
       "    <tr>\n",
       "      <th>14</th>\n",
       "      <td>{32, 41, 10, 15, 21, 29}</td>\n",
       "      <td>15</td>\n",
       "      <td>15</td>\n",
       "      <td>15</td>\n",
       "      <td>[15, 15, 15]</td>\n",
       "      <td>0</td>\n",
       "      <td>81.40</td>\n",
       "      <td>9.30</td>\n",
       "      <td>9.30</td>\n",
       "      <td>{1, 2, 3, 4, 5, 6, 7, 8, 9, 11, 12, 14, 16, 18...</td>\n",
       "      <td>...</td>\n",
       "      <td>0</td>\n",
       "      <td>[[1, 4, 6, 8, 11, 14, 18, 22, 26, 31, 37, 42, ...</td>\n",
       "      <td>[[1, 4, 5, 7, 9, 12, 16, 20, 24, 19, 23, 28, 3...</td>\n",
       "      <td>[[2, 49, 47, 42, 37, 31, 36, 30, 35, 40, 44, 3...</td>\n",
       "      <td>[[1, 4, 6, 8, 11, 14, 18, 22, 26, 31, 37, 42, ...</td>\n",
       "      <td>{48, 4, 31}</td>\n",
       "      <td>3</td>\n",
       "      <td>[[25, 20, 16, 13, 17, 14, 18, 22, 26, 31, 36, ...</td>\n",
       "      <td>4</td>\n",
       "      <td>{(34, 42, 13, 15, 22, 30), (40, 10, 18, 20, 28...</td>\n",
       "    </tr>\n",
       "    <tr>\n",
       "      <th>26</th>\n",
       "      <td>{32, 35, 13, 46, 28, 30}</td>\n",
       "      <td>15</td>\n",
       "      <td>15</td>\n",
       "      <td>15</td>\n",
       "      <td>[15, 15, 15]</td>\n",
       "      <td>0</td>\n",
       "      <td>86.05</td>\n",
       "      <td>4.65</td>\n",
       "      <td>9.30</td>\n",
       "      <td>{1, 2, 3, 4, 5, 6, 7, 8, 9, 11, 12, 14, 15, 16...</td>\n",
       "      <td>...</td>\n",
       "      <td>0</td>\n",
       "      <td>[[1, 4, 6, 8, 11, 14, 18, 22, 26, 31, 37, 42, ...</td>\n",
       "      <td>[[1, 4, 5, 7, 9, 12, 16, 20, 24, 29, 34, 39, 4...</td>\n",
       "      <td>[[2, 49, 47, 42, 37, 31, 36, 41, 45, 40, 44, 3...</td>\n",
       "      <td>[[1, 4, 6, 8, 11, 14, 18, 22, 26, 31, 37, 42, ...</td>\n",
       "      <td>{4, 31, 39}</td>\n",
       "      <td>3</td>\n",
       "      <td>[[34, 29, 24, 20, 25, 21, 26, 31, 36, 41, 45, ...</td>\n",
       "      <td>5</td>\n",
       "      <td>{(39, 8, 16, 20, 23, 31), (32, 36, 44, 13, 28,...</td>\n",
       "    </tr>\n",
       "  </tbody>\n",
       "</table>\n",
       "<p>5 rows × 26 columns</p>\n",
       "</div>"
      ],
      "text/plain": [
       "                    barriers  len12  len13  len23 reward_path_lengths  \\\n",
       "0    {34, 9, 11, 45, 18, 31}     15     15     15        [15, 15, 15]   \n",
       "9    {32, 7, 46, 21, 27, 29}     15     15     15        [15, 15, 15]   \n",
       "10   {34, 37, 7, 11, 45, 26}     15     15     15        [15, 15, 15]   \n",
       "14  {32, 41, 10, 15, 21, 29}     15     15     15        [15, 15, 15]   \n",
       "26  {32, 35, 13, 46, 28, 30}     15     15     15        [15, 15, 15]   \n",
       "\n",
       "    path_length_difference  optimal_pct  non_optimal_pct  dead_end_pct  \\\n",
       "0                        0        90.70             6.98          2.33   \n",
       "9                        0        86.05             6.98          6.98   \n",
       "10                       0        86.05             6.98          6.98   \n",
       "14                       0        81.40             9.30          9.30   \n",
       "26                       0        86.05             4.65          9.30   \n",
       "\n",
       "                                        optimal_hexes  ...  \\\n",
       "0   {1, 2, 3, 4, 5, 6, 7, 8, 10, 12, 13, 15, 16, 1...  ...   \n",
       "9   {1, 2, 3, 4, 6, 8, 10, 11, 12, 13, 14, 15, 16,...  ...   \n",
       "10  {1, 2, 3, 4, 6, 8, 10, 12, 13, 14, 15, 16, 17,...  ...   \n",
       "14  {1, 2, 3, 4, 5, 6, 7, 8, 9, 11, 12, 14, 16, 18...  ...   \n",
       "26  {1, 2, 3, 4, 5, 6, 7, 8, 9, 11, 12, 14, 15, 16...  ...   \n",
       "\n",
       "   num_dead_ends_min_length_4  \\\n",
       "0                           0   \n",
       "9                           0   \n",
       "10                          0   \n",
       "14                          0   \n",
       "26                          0   \n",
       "\n",
       "                                     optimal_paths_12  \\\n",
       "0   [[1, 4, 5, 7, 10, 13, 17, 21, 26, 22, 27, 32, ...   \n",
       "9   [[1, 4, 6, 8, 11, 14, 18, 22, 26, 31, 37, 42, ...   \n",
       "10  [[1, 4, 6, 8, 10, 13, 17, 14, 18, 22, 27, 32, ...   \n",
       "14  [[1, 4, 6, 8, 11, 14, 18, 22, 26, 31, 37, 42, ...   \n",
       "26  [[1, 4, 6, 8, 11, 14, 18, 22, 26, 31, 37, 42, ...   \n",
       "\n",
       "                                     optimal_paths_13  \\\n",
       "0   [[1, 4, 5, 7, 10, 13, 16, 12, 15, 19, 23, 28, ...   \n",
       "9   [[1, 4, 6, 8, 10, 13, 16, 12, 15, 19, 23, 28, ...   \n",
       "10  [[1, 4, 6, 8, 10, 13, 16, 12, 15, 19, 23, 28, ...   \n",
       "14  [[1, 4, 5, 7, 9, 12, 16, 20, 24, 19, 23, 28, 3...   \n",
       "26  [[1, 4, 5, 7, 9, 12, 16, 20, 24, 29, 34, 39, 4...   \n",
       "\n",
       "                                     optimal_paths_23  \\\n",
       "0   [[2, 49, 47, 42, 46, 41, 36, 30, 35, 40, 44, 3...   \n",
       "9   [[2, 49, 47, 42, 37, 31, 36, 30, 35, 40, 44, 3...   \n",
       "10  [[2, 49, 47, 42, 46, 41, 36, 30, 35, 40, 44, 3...   \n",
       "14  [[2, 49, 47, 42, 37, 31, 36, 30, 35, 40, 44, 3...   \n",
       "26  [[2, 49, 47, 42, 37, 31, 36, 41, 45, 40, 44, 3...   \n",
       "\n",
       "                                    optimal_paths_all  choice_points  \\\n",
       "0   [[1, 4, 5, 7, 10, 13, 17, 21, 26, 22, 27, 32, ...   {48, 49, 13}   \n",
       "9   [[1, 4, 6, 8, 11, 14, 18, 22, 26, 31, 37, 42, ...    {8, 48, 31}   \n",
       "10  [[1, 4, 6, 8, 10, 13, 17, 14, 18, 22, 27, 32, ...   {48, 49, 13}   \n",
       "14  [[1, 4, 6, 8, 11, 14, 18, 22, 26, 31, 37, 42, ...    {48, 4, 31}   \n",
       "26  [[1, 4, 6, 8, 11, 14, 18, 22, 26, 31, 37, 42, ...    {4, 31, 39}   \n",
       "\n",
       "    num_choice_points                                             cycles  \\\n",
       "0                   3  [[33, 28, 23, 19, 24, 29, 35, 40, 44, 39, 43, ...   \n",
       "9                   3  [[35, 30, 36, 41, 45, 40], [34, 28, 23, 19, 24...   \n",
       "10                  3  [[33, 28, 23, 19, 24, 29, 35, 40, 44, 39, 43, ...   \n",
       "14                  3  [[25, 20, 16, 13, 17, 14, 18, 22, 26, 31, 36, ...   \n",
       "26                  3  [[34, 29, 24, 20, 25, 21, 26, 31, 36, 41, 45, ...   \n",
       "\n",
       "   num_cycles                                   isomorphic_mazes  \n",
       "0           7  {(37, 44, 13, 15, 18, 23), (37, 9, 11, 45, 15,...  \n",
       "9           6  {(8, 9, 42, 11, 21, 29), (32, 39, 44, 13, 23, ...  \n",
       "10          5  {(32, 34, 35, 10, 46, 15), (34, 37, 8, 9, 45, ...  \n",
       "14          4  {(34, 42, 13, 15, 22, 30), (40, 10, 18, 20, 28...  \n",
       "26          5  {(39, 8, 16, 20, 23, 31), (32, 36, 44, 13, 28,...  \n",
       "\n",
       "[5 rows x 26 columns]"
      ]
     },
     "metadata": {},
     "output_type": "display_data"
    },
    {
     "name": "stdout",
     "output_type": "stream",
     "text": [
      "There are 9288 mazes where all reward path lengths are 15 hexes:\n"
     ]
    },
    {
     "data": {
      "text/html": [
       "<div>\n",
       "<style scoped>\n",
       "    .dataframe tbody tr th:only-of-type {\n",
       "        vertical-align: middle;\n",
       "    }\n",
       "\n",
       "    .dataframe tbody tr th {\n",
       "        vertical-align: top;\n",
       "    }\n",
       "\n",
       "    .dataframe thead th {\n",
       "        text-align: right;\n",
       "    }\n",
       "</style>\n",
       "<table border=\"1\" class=\"dataframe\">\n",
       "  <thead>\n",
       "    <tr style=\"text-align: right;\">\n",
       "      <th></th>\n",
       "      <th>barriers</th>\n",
       "      <th>len12</th>\n",
       "      <th>len13</th>\n",
       "      <th>len23</th>\n",
       "      <th>reward_path_lengths</th>\n",
       "      <th>path_length_difference</th>\n",
       "      <th>optimal_pct</th>\n",
       "      <th>non_optimal_pct</th>\n",
       "      <th>dead_end_pct</th>\n",
       "      <th>optimal_hexes</th>\n",
       "      <th>...</th>\n",
       "      <th>num_dead_ends_min_length_4</th>\n",
       "      <th>optimal_paths_12</th>\n",
       "      <th>optimal_paths_13</th>\n",
       "      <th>optimal_paths_23</th>\n",
       "      <th>optimal_paths_all</th>\n",
       "      <th>choice_points</th>\n",
       "      <th>num_choice_points</th>\n",
       "      <th>cycles</th>\n",
       "      <th>num_cycles</th>\n",
       "      <th>isomorphic_mazes</th>\n",
       "    </tr>\n",
       "  </thead>\n",
       "  <tbody>\n",
       "    <tr>\n",
       "      <th>0</th>\n",
       "      <td>{34, 9, 11, 45, 18, 31}</td>\n",
       "      <td>15</td>\n",
       "      <td>15</td>\n",
       "      <td>15</td>\n",
       "      <td>[15, 15, 15]</td>\n",
       "      <td>0</td>\n",
       "      <td>90.70</td>\n",
       "      <td>6.98</td>\n",
       "      <td>2.33</td>\n",
       "      <td>{1, 2, 3, 4, 5, 6, 7, 8, 10, 12, 13, 15, 16, 1...</td>\n",
       "      <td>...</td>\n",
       "      <td>0</td>\n",
       "      <td>[[1, 4, 5, 7, 10, 13, 17, 21, 26, 22, 27, 32, ...</td>\n",
       "      <td>[[1, 4, 5, 7, 10, 13, 16, 12, 15, 19, 23, 28, ...</td>\n",
       "      <td>[[2, 49, 47, 42, 46, 41, 36, 30, 35, 40, 44, 3...</td>\n",
       "      <td>[[1, 4, 5, 7, 10, 13, 17, 21, 26, 22, 27, 32, ...</td>\n",
       "      <td>{48, 49, 13}</td>\n",
       "      <td>3</td>\n",
       "      <td>[[33, 28, 23, 19, 24, 29, 35, 40, 44, 39, 43, ...</td>\n",
       "      <td>7</td>\n",
       "      <td>{(37, 44, 13, 15, 18, 23), (37, 9, 11, 45, 15,...</td>\n",
       "    </tr>\n",
       "    <tr>\n",
       "      <th>1</th>\n",
       "      <td>{36, 39, 8, 11, 15, 31}</td>\n",
       "      <td>15</td>\n",
       "      <td>15</td>\n",
       "      <td>15</td>\n",
       "      <td>[15, 15, 15]</td>\n",
       "      <td>0</td>\n",
       "      <td>86.05</td>\n",
       "      <td>6.98</td>\n",
       "      <td>6.98</td>\n",
       "      <td>{1, 2, 3, 4, 5, 7, 9, 10, 12, 13, 14, 16, 17, ...</td>\n",
       "      <td>...</td>\n",
       "      <td>0</td>\n",
       "      <td>[[1, 4, 5, 7, 10, 13, 17, 14, 18, 22, 27, 32, ...</td>\n",
       "      <td>[[1, 4, 5, 7, 10, 13, 16, 20, 24, 19, 23, 28, ...</td>\n",
       "      <td>[[2, 49, 47, 42, 46, 41, 45, 40, 35, 29, 34, 2...</td>\n",
       "      <td>[[1, 4, 5, 7, 10, 13, 17, 14, 18, 22, 27, 32, ...</td>\n",
       "      <td>{7, 13, 49, 28, 29}</td>\n",
       "      <td>5</td>\n",
       "      <td>[[37, 32, 38, 49, 47, 42], [30, 25, 21, 26, 22...</td>\n",
       "      <td>7</td>\n",
       "      <td>{(32, 13, 45, 17, 23, 28), (35, 7, 9, 42, 18, ...</td>\n",
       "    </tr>\n",
       "    <tr>\n",
       "      <th>2</th>\n",
       "      <td>{36, 11, 44, 20, 21, 28}</td>\n",
       "      <td>15</td>\n",
       "      <td>15</td>\n",
       "      <td>15</td>\n",
       "      <td>[15, 15, 15]</td>\n",
       "      <td>0</td>\n",
       "      <td>81.40</td>\n",
       "      <td>9.30</td>\n",
       "      <td>9.30</td>\n",
       "      <td>{1, 2, 3, 4, 5, 6, 7, 8, 9, 10, 12, 13, 14, 15...</td>\n",
       "      <td>...</td>\n",
       "      <td>0</td>\n",
       "      <td>[[1, 4, 5, 7, 10, 13, 17, 14, 18, 22, 27, 32, ...</td>\n",
       "      <td>[[1, 4, 5, 7, 9, 12, 15, 19, 24, 29, 34, 39, 4...</td>\n",
       "      <td>[[2, 49, 47, 42, 46, 41, 45, 40, 35, 29, 34, 3...</td>\n",
       "      <td>[[1, 4, 5, 7, 10, 13, 17, 14, 18, 22, 27, 32, ...</td>\n",
       "      <td>{49, 4, 29, 7}</td>\n",
       "      <td>4</td>\n",
       "      <td>[[37, 32, 38, 49, 47, 42], [37, 31, 26, 22, 27...</td>\n",
       "      <td>5</td>\n",
       "      <td>{(7, 11, 44, 20, 26, 30), (8, 9, 46, 21, 24, 3...</td>\n",
       "    </tr>\n",
       "    <tr>\n",
       "      <th>3</th>\n",
       "      <td>{35, 10, 46, 20, 23, 27}</td>\n",
       "      <td>15</td>\n",
       "      <td>15</td>\n",
       "      <td>15</td>\n",
       "      <td>[15, 15, 15]</td>\n",
       "      <td>0</td>\n",
       "      <td>90.70</td>\n",
       "      <td>9.30</td>\n",
       "      <td>0.00</td>\n",
       "      <td>{1, 2, 3, 4, 5, 6, 7, 8, 9, 11, 12, 14, 15, 17...</td>\n",
       "      <td>...</td>\n",
       "      <td>0</td>\n",
       "      <td>[[1, 4, 6, 8, 11, 14, 18, 22, 26, 31, 37, 32, ...</td>\n",
       "      <td>[[1, 4, 5, 7, 9, 12, 15, 19, 24, 29, 34, 28, 3...</td>\n",
       "      <td>[[2, 49, 38, 32, 37, 31, 36, 41, 45, 40, 44, 3...</td>\n",
       "      <td>[[1, 4, 6, 8, 11, 14, 18, 22, 26, 31, 37, 32, ...</td>\n",
       "      <td>{48, 4, 31, 39}</td>\n",
       "      <td>4</td>\n",
       "      <td>[[31, 26, 21, 25, 30, 36], [17, 14, 18, 22, 26...</td>\n",
       "      <td>6</td>\n",
       "      <td>{(34, 9, 46, 17, 20, 27), (37, 9, 11, 44, 24, ...</td>\n",
       "    </tr>\n",
       "    <tr>\n",
       "      <th>4</th>\n",
       "      <td>{9, 11, 45, 20, 25, 31}</td>\n",
       "      <td>15</td>\n",
       "      <td>15</td>\n",
       "      <td>15</td>\n",
       "      <td>[15, 15, 15]</td>\n",
       "      <td>0</td>\n",
       "      <td>95.35</td>\n",
       "      <td>4.65</td>\n",
       "      <td>0.00</td>\n",
       "      <td>{1, 2, 3, 4, 5, 6, 7, 8, 10, 12, 13, 14, 15, 1...</td>\n",
       "      <td>...</td>\n",
       "      <td>0</td>\n",
       "      <td>[[1, 4, 5, 7, 10, 13, 17, 14, 18, 22, 27, 32, ...</td>\n",
       "      <td>[[1, 4, 5, 7, 10, 13, 16, 12, 15, 19, 23, 28, ...</td>\n",
       "      <td>[[2, 49, 47, 42, 46, 41, 36, 30, 35, 29, 34, 2...</td>\n",
       "      <td>[[1, 4, 5, 7, 10, 13, 17, 14, 18, 22, 27, 32, ...</td>\n",
       "      <td>{48, 49, 28, 13}</td>\n",
       "      <td>4</td>\n",
       "      <td>[[34, 29, 35, 40, 44, 39], [34, 28, 23, 19, 24...</td>\n",
       "      <td>7</td>\n",
       "      <td>{(44, 18, 20, 23, 25, 31), (46, 15, 21, 25, 27...</td>\n",
       "    </tr>\n",
       "  </tbody>\n",
       "</table>\n",
       "<p>5 rows × 26 columns</p>\n",
       "</div>"
      ],
      "text/plain": [
       "                   barriers  len12  len13  len23 reward_path_lengths  \\\n",
       "0   {34, 9, 11, 45, 18, 31}     15     15     15        [15, 15, 15]   \n",
       "1   {36, 39, 8, 11, 15, 31}     15     15     15        [15, 15, 15]   \n",
       "2  {36, 11, 44, 20, 21, 28}     15     15     15        [15, 15, 15]   \n",
       "3  {35, 10, 46, 20, 23, 27}     15     15     15        [15, 15, 15]   \n",
       "4   {9, 11, 45, 20, 25, 31}     15     15     15        [15, 15, 15]   \n",
       "\n",
       "   path_length_difference  optimal_pct  non_optimal_pct  dead_end_pct  \\\n",
       "0                       0        90.70             6.98          2.33   \n",
       "1                       0        86.05             6.98          6.98   \n",
       "2                       0        81.40             9.30          9.30   \n",
       "3                       0        90.70             9.30          0.00   \n",
       "4                       0        95.35             4.65          0.00   \n",
       "\n",
       "                                       optimal_hexes  ...  \\\n",
       "0  {1, 2, 3, 4, 5, 6, 7, 8, 10, 12, 13, 15, 16, 1...  ...   \n",
       "1  {1, 2, 3, 4, 5, 7, 9, 10, 12, 13, 14, 16, 17, ...  ...   \n",
       "2  {1, 2, 3, 4, 5, 6, 7, 8, 9, 10, 12, 13, 14, 15...  ...   \n",
       "3  {1, 2, 3, 4, 5, 6, 7, 8, 9, 11, 12, 14, 15, 17...  ...   \n",
       "4  {1, 2, 3, 4, 5, 6, 7, 8, 10, 12, 13, 14, 15, 1...  ...   \n",
       "\n",
       "  num_dead_ends_min_length_4  \\\n",
       "0                          0   \n",
       "1                          0   \n",
       "2                          0   \n",
       "3                          0   \n",
       "4                          0   \n",
       "\n",
       "                                    optimal_paths_12  \\\n",
       "0  [[1, 4, 5, 7, 10, 13, 17, 21, 26, 22, 27, 32, ...   \n",
       "1  [[1, 4, 5, 7, 10, 13, 17, 14, 18, 22, 27, 32, ...   \n",
       "2  [[1, 4, 5, 7, 10, 13, 17, 14, 18, 22, 27, 32, ...   \n",
       "3  [[1, 4, 6, 8, 11, 14, 18, 22, 26, 31, 37, 32, ...   \n",
       "4  [[1, 4, 5, 7, 10, 13, 17, 14, 18, 22, 27, 32, ...   \n",
       "\n",
       "                                    optimal_paths_13  \\\n",
       "0  [[1, 4, 5, 7, 10, 13, 16, 12, 15, 19, 23, 28, ...   \n",
       "1  [[1, 4, 5, 7, 10, 13, 16, 20, 24, 19, 23, 28, ...   \n",
       "2  [[1, 4, 5, 7, 9, 12, 15, 19, 24, 29, 34, 39, 4...   \n",
       "3  [[1, 4, 5, 7, 9, 12, 15, 19, 24, 29, 34, 28, 3...   \n",
       "4  [[1, 4, 5, 7, 10, 13, 16, 12, 15, 19, 23, 28, ...   \n",
       "\n",
       "                                    optimal_paths_23  \\\n",
       "0  [[2, 49, 47, 42, 46, 41, 36, 30, 35, 40, 44, 3...   \n",
       "1  [[2, 49, 47, 42, 46, 41, 45, 40, 35, 29, 34, 2...   \n",
       "2  [[2, 49, 47, 42, 46, 41, 45, 40, 35, 29, 34, 3...   \n",
       "3  [[2, 49, 38, 32, 37, 31, 36, 41, 45, 40, 44, 3...   \n",
       "4  [[2, 49, 47, 42, 46, 41, 36, 30, 35, 29, 34, 2...   \n",
       "\n",
       "                                   optimal_paths_all        choice_points  \\\n",
       "0  [[1, 4, 5, 7, 10, 13, 17, 21, 26, 22, 27, 32, ...         {48, 49, 13}   \n",
       "1  [[1, 4, 5, 7, 10, 13, 17, 14, 18, 22, 27, 32, ...  {7, 13, 49, 28, 29}   \n",
       "2  [[1, 4, 5, 7, 10, 13, 17, 14, 18, 22, 27, 32, ...       {49, 4, 29, 7}   \n",
       "3  [[1, 4, 6, 8, 11, 14, 18, 22, 26, 31, 37, 32, ...      {48, 4, 31, 39}   \n",
       "4  [[1, 4, 5, 7, 10, 13, 17, 14, 18, 22, 27, 32, ...     {48, 49, 28, 13}   \n",
       "\n",
       "   num_choice_points                                             cycles  \\\n",
       "0                  3  [[33, 28, 23, 19, 24, 29, 35, 40, 44, 39, 43, ...   \n",
       "1                  5  [[37, 32, 38, 49, 47, 42], [30, 25, 21, 26, 22...   \n",
       "2                  4  [[37, 32, 38, 49, 47, 42], [37, 31, 26, 22, 27...   \n",
       "3                  4  [[31, 26, 21, 25, 30, 36], [17, 14, 18, 22, 26...   \n",
       "4                  4  [[34, 29, 35, 40, 44, 39], [34, 28, 23, 19, 24...   \n",
       "\n",
       "  num_cycles                                   isomorphic_mazes  \n",
       "0          7  {(37, 44, 13, 15, 18, 23), (37, 9, 11, 45, 15,...  \n",
       "1          7  {(32, 13, 45, 17, 23, 28), (35, 7, 9, 42, 18, ...  \n",
       "2          5  {(7, 11, 44, 20, 26, 30), (8, 9, 46, 21, 24, 3...  \n",
       "3          6  {(34, 9, 46, 17, 20, 27), (37, 9, 11, 44, 24, ...  \n",
       "4          7  {(44, 18, 20, 23, 25, 31), (46, 15, 21, 25, 27...  \n",
       "\n",
       "[5 rows x 26 columns]"
      ]
     },
     "metadata": {},
     "output_type": "display_data"
    },
    {
     "name": "stdout",
     "output_type": "stream",
     "text": [
      "There are 2266 mazes where all reward path lengths are 17 hexes:\n"
     ]
    },
    {
     "data": {
      "text/html": [
       "<div>\n",
       "<style scoped>\n",
       "    .dataframe tbody tr th:only-of-type {\n",
       "        vertical-align: middle;\n",
       "    }\n",
       "\n",
       "    .dataframe tbody tr th {\n",
       "        vertical-align: top;\n",
       "    }\n",
       "\n",
       "    .dataframe thead th {\n",
       "        text-align: right;\n",
       "    }\n",
       "</style>\n",
       "<table border=\"1\" class=\"dataframe\">\n",
       "  <thead>\n",
       "    <tr style=\"text-align: right;\">\n",
       "      <th></th>\n",
       "      <th>barriers</th>\n",
       "      <th>len12</th>\n",
       "      <th>len13</th>\n",
       "      <th>len23</th>\n",
       "      <th>reward_path_lengths</th>\n",
       "      <th>path_length_difference</th>\n",
       "      <th>optimal_pct</th>\n",
       "      <th>non_optimal_pct</th>\n",
       "      <th>dead_end_pct</th>\n",
       "      <th>optimal_hexes</th>\n",
       "      <th>...</th>\n",
       "      <th>num_dead_ends_min_length_4</th>\n",
       "      <th>optimal_paths_12</th>\n",
       "      <th>optimal_paths_13</th>\n",
       "      <th>optimal_paths_23</th>\n",
       "      <th>optimal_paths_all</th>\n",
       "      <th>choice_points</th>\n",
       "      <th>num_choice_points</th>\n",
       "      <th>cycles</th>\n",
       "      <th>num_cycles</th>\n",
       "      <th>isomorphic_mazes</th>\n",
       "    </tr>\n",
       "  </thead>\n",
       "  <tbody>\n",
       "    <tr>\n",
       "      <th>19</th>\n",
       "      <td>{35, 37, 7, 44, 13, 27}</td>\n",
       "      <td>17</td>\n",
       "      <td>17</td>\n",
       "      <td>17</td>\n",
       "      <td>[17, 17, 17]</td>\n",
       "      <td>0</td>\n",
       "      <td>76.74</td>\n",
       "      <td>6.98</td>\n",
       "      <td>16.28</td>\n",
       "      <td>{1, 2, 3, 4, 6, 8, 11, 14, 17, 18, 19, 20, 21,...</td>\n",
       "      <td>...</td>\n",
       "      <td>0</td>\n",
       "      <td>[[1, 4, 6, 8, 11, 14, 18, 22, 26, 31, 36, 41, ...</td>\n",
       "      <td>[[1, 4, 6, 8, 11, 14, 17, 21, 25, 20, 24, 19, ...</td>\n",
       "      <td>[[2, 49, 47, 42, 46, 41, 36, 30, 25, 20, 24, 1...</td>\n",
       "      <td>[[1, 4, 6, 8, 11, 14, 18, 22, 26, 31, 36, 41, ...</td>\n",
       "      <td>{25, 36, 21, 14}</td>\n",
       "      <td>4</td>\n",
       "      <td>[[33, 28, 34, 39, 43, 48], [29, 24, 19, 23, 28...</td>\n",
       "      <td>5</td>\n",
       "      <td>{(37, 11, 46, 17, 28, 29), (39, 9, 10, 26, 27,...</td>\n",
       "    </tr>\n",
       "    <tr>\n",
       "      <th>21</th>\n",
       "      <td>{32, 34, 37, 39, 7, 10}</td>\n",
       "      <td>17</td>\n",
       "      <td>17</td>\n",
       "      <td>17</td>\n",
       "      <td>[17, 17, 17]</td>\n",
       "      <td>0</td>\n",
       "      <td>86.05</td>\n",
       "      <td>0.00</td>\n",
       "      <td>13.95</td>\n",
       "      <td>{1, 2, 3, 4, 6, 8, 11, 12, 13, 14, 15, 16, 17,...</td>\n",
       "      <td>...</td>\n",
       "      <td>0</td>\n",
       "      <td>[[1, 4, 6, 8, 11, 14, 18, 22, 26, 31, 36, 41, ...</td>\n",
       "      <td>[[1, 4, 6, 8, 11, 14, 17, 13, 16, 12, 15, 19, ...</td>\n",
       "      <td>[[2, 49, 47, 42, 46, 41, 36, 30, 25, 20, 24, 1...</td>\n",
       "      <td>[[1, 4, 6, 8, 11, 14, 18, 22, 26, 31, 36, 41, ...</td>\n",
       "      <td>{36, 41, 14, 17, 19, 20, 21, 24, 25, 30}</td>\n",
       "      <td>10</td>\n",
       "      <td>[[30, 36, 41, 45, 40, 35], [20, 25, 21, 26, 31...</td>\n",
       "      <td>6</td>\n",
       "      <td>{(34, 37, 8, 10, 42, 28), (32, 34, 37, 7, 39, ...</td>\n",
       "    </tr>\n",
       "    <tr>\n",
       "      <th>31</th>\n",
       "      <td>{36, 42, 17, 19, 22, 29}</td>\n",
       "      <td>17</td>\n",
       "      <td>17</td>\n",
       "      <td>17</td>\n",
       "      <td>[17, 17, 17]</td>\n",
       "      <td>0</td>\n",
       "      <td>67.44</td>\n",
       "      <td>6.98</td>\n",
       "      <td>25.58</td>\n",
       "      <td>{1, 2, 3, 4, 5, 6, 7, 8, 9, 10, 12, 13, 16, 20...</td>\n",
       "      <td>...</td>\n",
       "      <td>0</td>\n",
       "      <td>[[1, 4, 5, 7, 10, 13, 16, 20, 25, 21, 26, 31, ...</td>\n",
       "      <td>[[1, 4, 5, 7, 10, 13, 16, 20, 25, 30, 35, 40, ...</td>\n",
       "      <td>[[2, 49, 38, 32, 37, 31, 26, 21, 25, 30, 35, 4...</td>\n",
       "      <td>[[1, 4, 5, 7, 10, 13, 16, 20, 25, 21, 26, 31, ...</td>\n",
       "      <td>{25}</td>\n",
       "      <td>1</td>\n",
       "      <td>[[13, 10, 7, 9, 12, 16], [5, 4, 6, 8, 10, 7], ...</td>\n",
       "      <td>3</td>\n",
       "      <td>{(8, 41, 12, 17, 24, 31), (36, 40, 13, 14, 24,...</td>\n",
       "    </tr>\n",
       "    <tr>\n",
       "      <th>35</th>\n",
       "      <td>{32, 35, 45, 15, 16, 31}</td>\n",
       "      <td>17</td>\n",
       "      <td>17</td>\n",
       "      <td>17</td>\n",
       "      <td>[17, 17, 17]</td>\n",
       "      <td>0</td>\n",
       "      <td>76.74</td>\n",
       "      <td>6.98</td>\n",
       "      <td>16.28</td>\n",
       "      <td>{1, 2, 3, 4, 5, 6, 7, 8, 10, 11, 13, 14, 17, 1...</td>\n",
       "      <td>...</td>\n",
       "      <td>0</td>\n",
       "      <td>[[1, 4, 5, 7, 10, 13, 17, 21, 25, 30, 36, 41, ...</td>\n",
       "      <td>[[1, 4, 5, 7, 10, 13, 17, 21, 25, 20, 24, 19, ...</td>\n",
       "      <td>[[2, 49, 47, 42, 46, 41, 36, 30, 25, 20, 24, 1...</td>\n",
       "      <td>[[1, 4, 5, 7, 10, 13, 17, 21, 25, 30, 36, 41, ...</td>\n",
       "      <td>{25}</td>\n",
       "      <td>1</td>\n",
       "      <td>[[33, 28, 34, 39, 43, 48], [29, 24, 19, 23, 28...</td>\n",
       "      <td>5</td>\n",
       "      <td>{(36, 8, 45, 13, 15, 24), (39, 15, 16, 18, 26,...</td>\n",
       "    </tr>\n",
       "    <tr>\n",
       "      <th>41</th>\n",
       "      <td>{34, 44, 14, 15, 16, 26}</td>\n",
       "      <td>17</td>\n",
       "      <td>17</td>\n",
       "      <td>17</td>\n",
       "      <td>[17, 17, 17]</td>\n",
       "      <td>0</td>\n",
       "      <td>81.40</td>\n",
       "      <td>0.00</td>\n",
       "      <td>18.60</td>\n",
       "      <td>{1, 2, 3, 4, 5, 6, 7, 8, 10, 13, 17, 19, 20, 2...</td>\n",
       "      <td>...</td>\n",
       "      <td>0</td>\n",
       "      <td>[[1, 4, 5, 7, 10, 13, 17, 21, 25, 30, 36, 31, ...</td>\n",
       "      <td>[[1, 4, 5, 7, 10, 13, 17, 21, 25, 20, 24, 19, ...</td>\n",
       "      <td>[[2, 49, 38, 32, 37, 31, 36, 30, 25, 20, 24, 1...</td>\n",
       "      <td>[[1, 4, 5, 7, 10, 13, 17, 21, 25, 30, 36, 31, ...</td>\n",
       "      <td>{41, 42, 49, 24, 25, 30}</td>\n",
       "      <td>6</td>\n",
       "      <td>[[37, 32, 38, 49, 47, 42], [36, 31, 37, 42, 46...</td>\n",
       "      <td>5</td>\n",
       "      <td>{(36, 40, 10, 11, 15, 24), (35, 9, 10, 41, 18,...</td>\n",
       "    </tr>\n",
       "  </tbody>\n",
       "</table>\n",
       "<p>5 rows × 26 columns</p>\n",
       "</div>"
      ],
      "text/plain": [
       "                    barriers  len12  len13  len23 reward_path_lengths  \\\n",
       "19   {35, 37, 7, 44, 13, 27}     17     17     17        [17, 17, 17]   \n",
       "21   {32, 34, 37, 39, 7, 10}     17     17     17        [17, 17, 17]   \n",
       "31  {36, 42, 17, 19, 22, 29}     17     17     17        [17, 17, 17]   \n",
       "35  {32, 35, 45, 15, 16, 31}     17     17     17        [17, 17, 17]   \n",
       "41  {34, 44, 14, 15, 16, 26}     17     17     17        [17, 17, 17]   \n",
       "\n",
       "    path_length_difference  optimal_pct  non_optimal_pct  dead_end_pct  \\\n",
       "19                       0        76.74             6.98         16.28   \n",
       "21                       0        86.05             0.00         13.95   \n",
       "31                       0        67.44             6.98         25.58   \n",
       "35                       0        76.74             6.98         16.28   \n",
       "41                       0        81.40             0.00         18.60   \n",
       "\n",
       "                                        optimal_hexes  ...  \\\n",
       "19  {1, 2, 3, 4, 6, 8, 11, 14, 17, 18, 19, 20, 21,...  ...   \n",
       "21  {1, 2, 3, 4, 6, 8, 11, 12, 13, 14, 15, 16, 17,...  ...   \n",
       "31  {1, 2, 3, 4, 5, 6, 7, 8, 9, 10, 12, 13, 16, 20...  ...   \n",
       "35  {1, 2, 3, 4, 5, 6, 7, 8, 10, 11, 13, 14, 17, 1...  ...   \n",
       "41  {1, 2, 3, 4, 5, 6, 7, 8, 10, 13, 17, 19, 20, 2...  ...   \n",
       "\n",
       "   num_dead_ends_min_length_4  \\\n",
       "19                          0   \n",
       "21                          0   \n",
       "31                          0   \n",
       "35                          0   \n",
       "41                          0   \n",
       "\n",
       "                                     optimal_paths_12  \\\n",
       "19  [[1, 4, 6, 8, 11, 14, 18, 22, 26, 31, 36, 41, ...   \n",
       "21  [[1, 4, 6, 8, 11, 14, 18, 22, 26, 31, 36, 41, ...   \n",
       "31  [[1, 4, 5, 7, 10, 13, 16, 20, 25, 21, 26, 31, ...   \n",
       "35  [[1, 4, 5, 7, 10, 13, 17, 21, 25, 30, 36, 41, ...   \n",
       "41  [[1, 4, 5, 7, 10, 13, 17, 21, 25, 30, 36, 31, ...   \n",
       "\n",
       "                                     optimal_paths_13  \\\n",
       "19  [[1, 4, 6, 8, 11, 14, 17, 21, 25, 20, 24, 19, ...   \n",
       "21  [[1, 4, 6, 8, 11, 14, 17, 13, 16, 12, 15, 19, ...   \n",
       "31  [[1, 4, 5, 7, 10, 13, 16, 20, 25, 30, 35, 40, ...   \n",
       "35  [[1, 4, 5, 7, 10, 13, 17, 21, 25, 20, 24, 19, ...   \n",
       "41  [[1, 4, 5, 7, 10, 13, 17, 21, 25, 20, 24, 19, ...   \n",
       "\n",
       "                                     optimal_paths_23  \\\n",
       "19  [[2, 49, 47, 42, 46, 41, 36, 30, 25, 20, 24, 1...   \n",
       "21  [[2, 49, 47, 42, 46, 41, 36, 30, 25, 20, 24, 1...   \n",
       "31  [[2, 49, 38, 32, 37, 31, 26, 21, 25, 30, 35, 4...   \n",
       "35  [[2, 49, 47, 42, 46, 41, 36, 30, 25, 20, 24, 1...   \n",
       "41  [[2, 49, 38, 32, 37, 31, 36, 30, 25, 20, 24, 1...   \n",
       "\n",
       "                                    optimal_paths_all  \\\n",
       "19  [[1, 4, 6, 8, 11, 14, 18, 22, 26, 31, 36, 41, ...   \n",
       "21  [[1, 4, 6, 8, 11, 14, 18, 22, 26, 31, 36, 41, ...   \n",
       "31  [[1, 4, 5, 7, 10, 13, 16, 20, 25, 21, 26, 31, ...   \n",
       "35  [[1, 4, 5, 7, 10, 13, 17, 21, 25, 30, 36, 41, ...   \n",
       "41  [[1, 4, 5, 7, 10, 13, 17, 21, 25, 30, 36, 31, ...   \n",
       "\n",
       "                               choice_points  num_choice_points  \\\n",
       "19                          {25, 36, 21, 14}                  4   \n",
       "21  {36, 41, 14, 17, 19, 20, 21, 24, 25, 30}                 10   \n",
       "31                                      {25}                  1   \n",
       "35                                      {25}                  1   \n",
       "41                  {41, 42, 49, 24, 25, 30}                  6   \n",
       "\n",
       "                                               cycles num_cycles  \\\n",
       "19  [[33, 28, 34, 39, 43, 48], [29, 24, 19, 23, 28...          5   \n",
       "21  [[30, 36, 41, 45, 40, 35], [20, 25, 21, 26, 31...          6   \n",
       "31  [[13, 10, 7, 9, 12, 16], [5, 4, 6, 8, 10, 7], ...          3   \n",
       "35  [[33, 28, 34, 39, 43, 48], [29, 24, 19, 23, 28...          5   \n",
       "41  [[37, 32, 38, 49, 47, 42], [36, 31, 37, 42, 46...          5   \n",
       "\n",
       "                                     isomorphic_mazes  \n",
       "19  {(37, 11, 46, 17, 28, 29), (39, 9, 10, 26, 27,...  \n",
       "21  {(34, 37, 8, 10, 42, 28), (32, 34, 37, 7, 39, ...  \n",
       "31  {(8, 41, 12, 17, 24, 31), (36, 40, 13, 14, 24,...  \n",
       "35  {(36, 8, 45, 13, 15, 24), (39, 15, 16, 18, 26,...  \n",
       "41  {(36, 40, 10, 11, 15, 24), (35, 9, 10, 41, 18,...  \n",
       "\n",
       "[5 rows x 26 columns]"
      ]
     },
     "metadata": {},
     "output_type": "display_data"
    }
   ],
   "source": [
    "# For example, I want only mazes with 3 choice points\n",
    "filtered = df[(df['num_choice_points'] == 3)]\n",
    "print(f\"There are {len(filtered)} mazes with exactly 3 choice points:\")\n",
    "display(filtered.head())\n",
    "\n",
    "# Now I want only mazes where all reward path lengths are 15 \n",
    "# (we can just check len12 because all path lengths are the same length)\n",
    "filtered = df[(df['len12'] == 15)]\n",
    "print(f\"There are {len(filtered)} mazes where all reward path lengths are 15 hexes:\")\n",
    "display(filtered.head())\n",
    "\n",
    "# Now I want only mazes where all reward path lengths are 17\n",
    "filtered = df[(df['len12'] == 17)]\n",
    "print(f\"There are {len(filtered)} mazes where all reward path lengths are 17 hexes:\")\n",
    "display(filtered.head())"
   ]
  },
  {
   "cell_type": "markdown",
   "id": "752933eb",
   "metadata": {},
   "source": [
    "### Plot some mazes to visualize what they look like\n",
    "\n",
    "They look good to me!"
   ]
  },
  {
   "cell_type": "code",
   "execution_count": 12,
   "id": "6eadd7b4",
   "metadata": {},
   "outputs": [
    {
     "data": {
      "image/png": "[encoded data removed]",
      "text/plain": [
       "<Figure size 640x480 with 1 Axes>"
      ]
     },
     "metadata": {},
     "output_type": "display_data"
    },
    {
     "data": {
      "image/png": "[encoded data removed]",
      "text/plain": [
       "<Figure size 640x480 with 1 Axes>"
      ]
     },
     "metadata": {},
     "output_type": "display_data"
    },
    {
     "data": {
      "image/png": "[encoded data removed]",
      "text/plain": [
       "<Figure size 640x480 with 1 Axes>"
      ]
     },
     "metadata": {},
     "output_type": "display_data"
    }
   ],
   "source": [
    "from src.hexmaze import plot_hex_maze\n",
    "\n",
    "# Maze 0\n",
    "maze = df['barriers'][0]\n",
    "plot_hex_maze(maze, show_choice_points=False)\n",
    "\n",
    "# Or maze 100\n",
    "maze = df['barriers'][100]\n",
    "plot_hex_maze(maze, show_choice_points=False)\n",
    "\n",
    "# Or maze 1000\n",
    "maze = df['barriers'][1000]\n",
    "plot_hex_maze(maze, show_choice_points=False)"
   ]
  }
 ],
 "metadata": {
  "kernelspec": {
   "display_name": "hex-maze",
   "language": "python",
   "name": "python3"
  },
  "language_info": {
   "codemirror_mode": {
    "name": "ipython",
    "version": 3
   },
   "file_extension": ".py",
   "mimetype": "text/x-python",
   "name": "python",
   "nbconvert_exporter": "python",
   "pygments_lexer": "ipython3",
   "version": "3.12.9"
  }
 },
 "nbformat": 4,
 "nbformat_minor": 5
}
