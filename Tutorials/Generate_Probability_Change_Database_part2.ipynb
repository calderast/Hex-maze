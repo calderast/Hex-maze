{
 "cells": [
  {
   "cell_type": "markdown",
   "id": "4092f3ad",
   "metadata": {},
   "source": [
    "# Searching the database for good probability-change mazes\n",
    "\n",
    "For probability-change experiments, it can be helpful if all of the mazes used are sufficiently different from each other so the rat cannot run the same/similar paths out of habit.\n",
    "\n",
    "This notebook walks us through the process of finding a set of sufficiently different mazes from the database to use for probability-change experiments. "
   ]
  },
  {
   "cell_type": "markdown",
   "id": "7228d15f",
   "metadata": {},
   "source": [
    "### First, let's load our saved groups of maze configurations\n"
   ]
  },
  {
   "cell_type": "code",
   "execution_count": 12,
   "id": "bdc2c251",
   "metadata": {},
   "outputs": [
    {
     "name": "stdout",
     "output_type": "stream",
     "text": [
      "We have 38208 total mazes good for probability change experiments.\n",
      "8821 of these mazes have been organized into groups, such that all mazes in a group have at least 10 hexes different on optimal paths\n",
      "We have 522 groups.\n"
     ]
    },
    {
     "data": {
      "image/png": "[encoded data removed]",
      "text/plain": [
       "<Figure size 640x480 with 1 Axes>"
      ]
     },
     "metadata": {},
     "output_type": "display_data"
    }
   ],
   "source": [
    "import numpy as np\n",
    "import pandas as pd\n",
    "import matplotlib.pyplot as plt\n",
    "import sys\n",
    "sys.path.append(\"..\")  # Use sys to add the parent directory (where hex_maze_utils lives) to the path\n",
    "from hex_maze_utils import num_hexes_different_on_optimal_paths\n",
    "\n",
    "# Load the database of good mazes for probability change experiments\n",
    "df = pd.read_pickle('../Barrier_sequence_Databases/maze_database_probability_change.pkl')\n",
    "print(f\"We have {len(df)} total mazes good for probability change experiments.\")\n",
    "\n",
    "# Load the list of sets grouping mazes by similarity\n",
    "groups = pd.read_pickle('maze_groups_incremental2.pkl')\n",
    "total_mazes_grouped = sum(len(group) for group in groups)\n",
    "\n",
    "print(f\"{total_mazes_grouped} of these mazes have been organized into groups, such that all mazes in a group have at least 10 hexes different on optimal paths\")\n",
    "print(f\"We have {len(groups)} groups.\")\n",
    "\n",
    "# Plot group sizes\n",
    "group_sizes = [len(group) for group in groups]\n",
    "plt.hist(group_sizes, bins='auto', edgecolor='black')\n",
    "plt.xlabel('Number of mazes in group')\n",
    "plt.ylabel('Number of groups')\n",
    "plt.show()"
   ]
  },
  {
   "cell_type": "markdown",
   "id": "8705e284",
   "metadata": {},
   "source": [
    "### Let's take a look at our generated database of mazes different from each other.\n",
    "\n",
    "How many groups do we have? How long are they?"
   ]
  },
  {
   "cell_type": "code",
   "execution_count": null,
   "id": "02822565",
   "metadata": {},
   "outputs": [],
   "source": [
    "# note which mazes within a group are isomorphic or similar once you flip it!!\n",
    "\n",
    "\n",
    "# maze\n",
    "# same info about maze as in regular database\n",
    "# list of mazes in group it is isomorphic to (if any)\n",
    "# list of mazes it is most similar to\n",
    "\n",
    "# add column in probability group and push!!!\n",
    "\n",
    "# for generate proabiltiy group tutorital, \n",
    "# add comparing a maze from a  different group to all mazes in the firts group"
   ]
  },
  {
   "cell_type": "markdown",
   "id": "00f61266",
   "metadata": {},
   "source": [
    "### Let's plot a group from our database.\n",
    "\n",
    "See [`Plotting_Hex_Mazes.ipynb`](Plotting_Hex_Mazes.ipynb) for a complete description of plotting options."
   ]
  },
  {
   "cell_type": "code",
   "execution_count": 5,
   "id": "9efdadeb",
   "metadata": {},
   "outputs": [],
   "source": [
    "from hex_maze_utils import plot_hex_maze, plot_hex_maze_comparison\n"
   ]
  }
 ],
 "metadata": {
  "kernelspec": {
   "display_name": "Python 3 (ipykernel)",
   "language": "python",
   "name": "python3"
  },
  "language_info": {
   "codemirror_mode": {
    "name": "ipython",
    "version": 3
   },
   "file_extension": ".py",
   "mimetype": "text/x-python",
   "name": "python",
   "nbconvert_exporter": "python",
   "pygments_lexer": "ipython3",
   "version": "3.12.3"
  }
 },
 "nbformat": 4,
 "nbformat_minor": 5
}
